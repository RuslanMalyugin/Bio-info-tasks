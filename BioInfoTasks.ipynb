{
  "nbformat": 4,
  "nbformat_minor": 0,
  "metadata": {
    "colab": {
      "provenance": [],
      "machine_shape": "hm"
    },
    "kernelspec": {
      "name": "python3",
      "display_name": "Python 3"
    },
    "language_info": {
      "name": "python"
    }
  },
  "cells": [
    {
      "cell_type": "markdown",
      "source": [
        "###Task 1"
      ],
      "metadata": {
        "id": "ImFR6Cr6X8SI"
      }
    },
    {
      "cell_type": "code",
      "source": [
        "input_str = 'TACCGAATCCGAGAAGGATCCACGGGCGTCGATGGGAGAGTACGATTGTCTAGCACGCAGACCCCGGTCCGCAGTACGATTTAGGCATCACCCTATGCTGATAAAGTATCGCCACGCCTAGTTCGTGTAGAGTGTTGCTAGCACAGACGCGTCAAAAGGTGAGGCAAGATTGTTGTCTGTACCATGCTATGGGATTCAACTATTGTTTACAGAAAAACGAGCGCTACGGAACTGGTTTAACAAAGCCTTTGACTCCCTAGTCGGAAAGGTGGACGGTTCGCATCCCGTTCCCGACCCAGAATTACTATCCTCCCGGGCTACTTGACAGTACTGCTACCCCGCGTGGCACTCGCAACGCGACAGACTCCATGACCCGGGTAAGGCGTGAAAAGGTATATCTTCACGTGTGCGCAACTATTATAGATAACCCTGAATGCAAGCCGATGTGTTCTGCTCGCTGGCAGTCCGGGAACCAGTGCTGTCCCCTGGCAATTGGTGATGGGACGATACTCGGAGCCGAAGGGGAGAGCATAACGTCGCGTCCCGGACAAGCATTTGATTCATTCTATTGAAGTGCATTGATCCCCCTTCGACATATTGCACACAACGAGAGGCGACGAAAATGATCCGTTTAGGCTCGCTAGTGAATTGATGTGAGCCTCTGTTTGTGGCACATAAATTAGTAAGCCAGAAGAACTGCCGGCTCTATAGCCCGATATGCAGGACCCGCGAAGTTCGCTACGGTGCACCGCAGAGGTCTCTAGCATTACTCCTTGCGCCCAGAGCGCTCTCTCGTGGTGTTAAAGTATCCGTTACGCATACCTCGAAGTCTGTATTGTCTACGTAAATTTGTAAGGAGCTTGATCCTCAGCGTTGGTAGCCTCTACGGTTTAGATAATGGTCCCAGTGCTCAGCGGAGGGGCTAAAGAAACAAACACCCTGAGTTGAGCCATTCCTAAGTGGCGCATAAAGCGGGAATGTTTATTCGTTTCTTGGCAGAATCTTTCCTCACTGAATCGCGGCGGTTTTCGACTAGGGTGCGGGACAAAGTAATCCGGTCCTTCACCGGACTCCAGTTATGGTCGATTCTTGAGCACCAATCCTGACTTAACTCCCAACCACGCGGAACTTGCAACGGTAGCTTTCGGCAGGGTCACAGGCAGAACTCGTCTTTAAAAAGGTCGGCCATTCCATATCCGATCGTTCCGGACCAGGACAGTAACATACCCATGAGCCTGTAAGTCTCAATTAGCGATCATTGATTTTAGGCGAGCGTAGGTATAAATAAGGATTGTCCCTTCTCTCTGGTGTTACCAAGTACACTTATGCTTAGGCCTGGGGTGGTGTCGTCAAACAGTGACACTGCGATTGGAATCAGCGCTTGTGTTGTGAGAATATAAGAATATTGGTTTGAGGACACCCTGCCGCGCTAGCTTAACACGAACGAGAAAGAAGATCTCGCATTTTTATAACCTAGGGCCCATCGTGATACTTGACAGCTCGGTAATGGCCGGAAACTCGCCGTAGCCCAGCGGTTTCCGATGGAGGGCGAGTAGGTAACAATTAAACTACACAGGTATGGGTTGCTTTTACCTATCAATACACTGCCACTTGGCAGGGCGAGTTAGCACGCCCCACCGTGTATCGTCTTTCACAGTATCCCCACACTGACGAACCCGTCATCATGCCTCGCTAGATATCCATCTCAAGGATTCAAATGCACAGGCACAGCCGGACATAGGATCCAAAACGGGAGCCCCACTGCGTATGGGCTGCGACTCGCACATATTAACACACCGCTTTATGCCGCACAAAAGGTCCCACAGTTTCTGTTTTGGTTAGGGGGAAACTACGTTGGATTGTCGTACCACTTTTTCAATAGAATCACATCATCACCTTCGTTTTTCGTCTGACCACGTGTGATAAGTGACGAGGGTAAACCGTTTGGTGCTACTTTAAAAGACGTGTAACCTGAGAGTTACGAACAGGTCCTTGTCTCACGTGCGGTGAGGCTTTACCGGCCGGGTGGGCCTAATTCGGATAGCGTATTCAATACCAAAATCTCTCTGGCTAAGTGATCCCGCGAGCTATAGAGCGCGGGTTCCGCTTGGATCCGGGTAAGTACAGCCCTAGATGCTGCCCACTGTGCGTAGGGTTTCAGAAAGTCTGAAATGGTCGGTGTGTGTAAATGTTCCGTACTTGGTTCCCAACGTGTCGACGGAGAGGTGCCAAGGGTCCTGTCTGTGTACCAGCGATTCGTCTAATACTGTGAATATTGCTGCCAACACGATTTGGGAATGGTTCTGTCATGCTGCATTCAGAAATCCATAGTGTACAAAGGAGGATTAATATGCAGAGACGGAGATGTAAAAGACGGAGATTGGGTGTCGCAGTGACCGTAGACGGAGATGATCAGAGACGGAGATATGTAAAGACGGAGATGGCTAAGACGGAGATGGAGATATGTAACGCAGTTAAAGGAGACGGAGATATGGCCGCTGTCACAGAGACGGAGATAGAAGGCGGGTTGGCAGCCCGTAGCCGTAGCTACTAGACGGAGATTCAATACGACGTGCGCACCTTGGCGTAGCTACTGAATACGACGTCAATACAATACGACGTGCATAGACGGAGATCGTAGCTACTCTCTACTGACAATACCGTAGCTACTCGTCGTAGCTACTCGTAGCTACTCAAATACGACGTCGTAGCTACTACGCGTAGCTACTTACTGGCAACGTGTTTAAGACGGAGATCACCTAGGCAACAGACGGAGACGGACGTAGCTACTTACCGTAGCTACTAGACGGAGATAGATCCGTAGCTACTGTAGCTACTTGGCAACGTGTGAGACGGAGATCGTAGGCGTAGCTACTTAACGTAGCTACTGAGACGGAGATAGACGGAGAAATACGACAATACGTAGCTACTCGTAGCTACTATGTCAATACGACGTGCGTAGCTACTCGACGTCGTAGCTACTCGACGTCGTGTCAAAAACGTAGCTACTAGCTACTCGTAGCTACTCGTCGAAATACCGTAGCGTAGCTACTTAGCTACTCGTAGCTACTCGTAGCTACTCGTAGCTACTGCAATACGACGTGAGGAGGTAGGATACGTAGCTACTCTCCTTGTGTGGTCTGGTAGGAAATACGACGTCAACGTGTAAGAGGCAACGTGTGTGTATGACGATGCTGCTTGGCCATTCATGAATTACAGACTTGGTAACCATGGGCGGCAACGTGTACGTGTCACCATCCGGGGCAACGTGGCAACGTGTCCCGTCTGAGTTTATAAACATTGAATTCCGTGCAGAATTAACACCAATGCCCTAACCGTTCGCGGTCTTCCTATCCGACATAACGTGGAGCGCACGTGTTAGGACACGCAAATCTATTGACACTCAAAGAGATTACAGAATGGCAGTCTTACTGGGGAATTCAACACTCAGCGTGACCCCGGGATCCTCTCGAGTGACTAACAGCAGTTACACTTAGCTACGGGTAGCTAACCTGGCGGTCGCTTATAAGAGTCCATAGCCGCAGATGACGGGCATTTATAAAGCTTGACAGGGGCTTGCGACTGTGTTCGCCCGTGGTCGTCATGAACGTCGGCCAGCGATAGCATCGTGGGTATAGTGCTACAGCAGATAGTTCCGGCGATGCATTAAGTAACTCAATGCGGTGTCCTCTAATGTTGGCTGTCTTCCGTACTTGTGGAACGTGCCGCGGTAAATTGTAGGATTGAAACTCTGACTCCACCTTGCGTGAGGCACACGCTCTGACTCCCTGACTCTCTGACTCCCCTCGATAAGATTCCCCACGGAATCGGGTAGACCTTGGCTCTGACTCCATGGATCTCTGACTCCCCCCTCTGACTGACGATCTAGCTGACTCCGGACGATCTAGCCGACGATCTAGACTCCCTCTGACTCCACCTCTGACTCCAAAGGGACGATCTAGGATCTAGCCCGACGATCTAGCTCTGACTCCTCGAGATCCTGACGATCTAGTCTGACGATCTAGTAGTAGTCTAGCGACGATCTAGACGATCTAGCGATCTAGCCTGGACGATCTAGGACGATCTAGAAGTTGCGGACGATCTAGTGACTGACGATCTAGGACTCCTCGAACCTCTGACTCGACGATCTAGCTCTGACTCTGACTCCGGGGCGACGATCTAGTAGCTAGTCCTCTGACTGACGATCTAGCCAAGTGACGATCTAGACGGACGATCTAGATACCGACGGAAGATACTAGCACGGAAGATGACGATCTAGCGGGACGATCTAGCGCCTCTGACTCCCCACTCTGACGACGATCTAGAAGACGGAAGATAAGACGATCTAGGTAAGACGATCTAGGGAAGATAAGATACAAGAGACGAATCTCCCGCTGACGATGACGATCTAGAGGAAGATAAGCCCATTGTCCGCACGGAAGATATAAAGTGCTAAAGTCCGACGGAAGATAATGACGGATAGTCCGCTAAAGTTCTGAGACTCCCCGCTAAAGTTACCAAATAGCGGATGTGTGGTACGGAAGATACCGAAAAAAGGTATAACGGAAGATACGCAAGTGGCTTATAGCGCAAGTGGCAAGATAAACGGAAGATATAGGAAGATCGCAAGTGGCCGGAAACGGAAGATATGTAACGGAAGATAACGCAAGTGGCGAAGATAGCGCCGCAAGTGGCTTCCCGCAAGTGGCAATCACGGAACGCAAGTGGCACGACGGAAGATAGTAGCGACGCAAGTGGCCGCGTTCGCAAGTGGCCGCAAGTGGCACGCACGCAAGTGGCTAAACCGTGAGTCCCGCAAGTGGCATCATAGCGCGCGGTTTTTGCAAAACAACACTACGCAAGTGGCGCACAGGCTCCTCAAACAAACAACACTACAAGTGGCAAGTGGCCAACAACAAACAACACTAGGAACGCAAAACAACACTACGACACACACGCAAAACAACAACAACACTAAACGAACGCCTGCATCCAGGCACCGCAACAACACTAGTGTTCTAACAACACTAACACGCAAGTGGCGATTATTGGGAACGCAAGTCGCAAAACAACACTACGCAAGTGGCTTTTAGAACAACACTAAACACTACAACAACACTAAACAACACTAGCCGCAAGTGGCCCGCACGCAAACAACACTAACTAACAACAACACTAAACACTAGCGTTCAACAACACTAAGGGACGACACGGGTGAGTGTTAAACAACACTAAGAAATAACAGATTCTAGCAACACCAACAACACTAGACACGACACGGGGTGTCTAACAACACTAAACAACACTAGTGGCTACGACACGACACGGGACGGGCGTTTTCACAACATTTCAACAACACTAACAACACTACAACACTATCCGTCGTGGACATCTCGTCTGCAACAACAACACTACGACAACAAACAACACTACAAACAACACTAAGTCTTGCTGCTATCTTGAACACGACGACACGGGACGGGACCATTGGCCCTATATTGATACGACACGGGTCCATGGTACCTCCGTACGCACGAACGACACGGGGACGACACGGGACGACACGGGACGACACGGGGACGACACGGGGTGACGACACGGGGACACGGGGACACGGGATTTAACGACACGGGGGGGACCCCAACTAACGACACGGACGACACGGGGCGTTAAATGCTTGGCACGACAACGACACGGGCGCGTTTATAAGTTGCTGTTGTTACCTACGACACGGGAAGACGACACGGGAAGTAGTATTTGGCTCTCAAGGATAGCAGCCGTAGTCCCATCTTCTATAGCTGGCAGATACTCTAAAGAAATGGACGTTCGATGTTGTAATTCCACCATGTAATTCCACTTCGCCACGTCACACGCTGTAATTCCATGTTCTGACAATGGTACGAATTAGATATGTAATTCCACCGTGTAATGTAATTCCAATATATGTTGTAATTCCACCAATGTAATTCCACCGGAAACATGTAATTCCATTGTAATTCCAGCAGGTTGTAATTCCAAATTCCAGTAATTCCACGCTGCCCGCTGTCTGTACGTCCCCTTGTTGTAATTCCACGCTGTAATTGTAATTCCAGCACAATCCGGTAGTGTAATTCCACTGCTGGTGGATGTAATTCCACCATCCAGTAAGGGATTCCTAATCTTGACGACTGTGGCAGTTCCGACTGTGGCGGCTTAATTTCGTATTAAACTGTAATTCCAGCGACTTGTAATTCCATGGCGGCGACTCGACTGTGGCGATGTGTAATTCTGTAATTCCACGGAGCGTACGATGTAATTCCAGGCCTTTGGTATGTAATTCCATGTGTAATTCCACCGGAGTCATTGCGCCGACTGTGGCGTGTAATTCCATGGTCGTGCTCGACTGTGTGTAATTCCACATGTAATTCCATTGTAATTCCATGGACTTGTCGCGACTGTGCCGACTGTGGCGACTGTGGCGGCCGACTGTGGCATCTTCGACCGACTGTGGCACACGACTGTGGCCGACTGTGGCGAACAGTAAGCGACTGTGGCATCGGATACACTCCCGTCGACTGTGGCCGACTGTGGCCATAGAGGTTTAGCGACTGTGGCCGACTGTGGCCGGGGCATCGACTGTGGCACGCCCTGGCGACTGTGGCCGAATGCTATGATCGTTACACCTGGGGGGAATCCGTGGCGACCGCAATTAGTTGACTGCTATGACAAGAAAACTACCTTTGTCGCCCGACGAACGTCCGGTCTCGTTTTAACGATCATGTGCTTGGATCAGGTTACCAGCTGGTGGGTCCGAGACCTCCGCCACCATTCGCCCTGGTGAATCTAGCTCCCAGGCTAGATGACAGGTCCACTAGGGATCGCCACGCAGGAAATTGACGTTCCCACGCTGCGTCTCTCAAGACGGGGTAGGGGCATTATATGTCCGTTTGACGCCTGGCGGAGTAATTAATTTCTAGGACATAAGCAGAAGAGTAGTAACACCGTGGGTGACGATCCTCGCACCGGCTGAAATACCTCGTCGATATTGCCAGGGGAGCGTGCGGATCTTGATAAGCCCGTCTGTCTCCGGTGTCAGCCGTGTACTCTTCAACCCGGGGAGGTAGAAAACCACACCCGGCGAAATATATCATAGATTTCCACTTGCCAGATATTCTAGACTCTGAGCGCTACTACACTTACTAGGGTTCCTTAATAGTATTGCTCCCTCAAAGGAAGCATTCCGCTACAGCAGGCATCACTCAAAGGAAGGAACTCAAAGGAATTACGCAATGAATCTCAAAGCTCAAAGGAATCCTCAAAGGAACCACCTAATAGGCACTCCGCAATCGGGAACTCTCAAAGGAAGCTCAAAGGAACGGAGCCGTTGTGGAGGATCCGGGGTAGCCATTCTCAAAGGAACCCCGGATACCTAGAGCGCTCTCAAAGGCTCAAAGGAAAGCTGCTCACCTCTCAAAGGAACTCAAAGGAACTCAAAGGAACCATCGAGTAAGCTCAAAGGAAAGCTCAAAGGAATTCACGCACTCAAAGGAACACGCCCGCTCAAAGGAAAGTGTCCCGCCTGCGCGCTCACTCAAAGGAAGAAAGTATCCACTACCGGGCTCAACTCAAAGGAACAAAGGACTCAAAGGAAGAAGGCTCAAAGGAAAGCTCAAAGGAACGTGCTCAAAGGAACAAAGGAACTGATGGGAATCCCCGCCTGCGTCCCTCTCAAAGGAACCATAAATGGCCGTGGCCGTATGGCCGTGCTTTCCCGCCTGCGCCCCCCCCGCCCCGCCAAAAACTCAAAGGAACAAAGGAACGCCTGCGCGCAAATGGCCGTGCTCTTGTAGTGTTAGATAGCGCAACCCCCCCTTCGCGATTACAATCGCGATTACAATGGCCGTAAATGGCTCGCGATTACCTGTCGCGATTACTGGCCGTTGTCGCGATCGCGATTACACTGTCGCGATTACGTCGCGATTACGTGCTTAGTCCCGCCTGCGTTTGTTCGCGATTACATGGCCGTCTAGATTCGCGATTACCTCGCGATTACATTACAAAATGGCCGTAAATGGCCGTCGCCTGCGGGGTCCCGCATCGCGATTACCCGTCGGACAAATGGCCGTGGTAAATGGCCGTAATCGCGATTACAAATGGTCGCGATTACACCCTGACTAACCCAAATGGCCTCGCGATTACATTACCGTAAATTCGCGATTACCGATTACCCCTTCGCGATTACGACTAAAATGTCGCGATCGCGATTACCCCTGACTAACCCTGACTATCGCGATTATCGCGATTACGATCGCGATTACATGGCCGTAAATGGCCGTTACCCTGACTAACCCTCGCGATTACCCCCCAACCCTGACTAACCCTGACTAACCCTGACTAACCCTGACTAACCCTGACTAACCCTGACTAACCCTGACTTCGCGATTACTACCGTGACTTCGCGATTACCAGGGTGACTCAGGGTGACTCAGGGTGACTCAGGGTGACTCAGGGTGACTCAGGGTGACTCAGGGTGACTCAGGGTGACTCAGGGTGACTCAGGGTGACTCAGGGTGACTCAGGGTGACTCAGGGTGACTCAGGGTGACTCAGGGTGACTCAGGGTGACTCAGGGTGACTCAGGGTGACTCAGGGTGACTCAGGGTGACTCAGGGTGACTCAGGGTGACTCAGGGTGACTCAGGGTGACTCAGGGTGACTCAGGGTGACTCAGGGTGACTCAGGGTGACTCAGGGTGACTCAGGGTGACTCAGGGTGACTCAGGGTGACTCAGGGTGACTCAGGGTGACTCAGGGTGACTCAGGGTAAATGGGGTTAAATGGGGTTAATAAATGGGGTATGGGGTAAATGGGGTTTAAATGGGGTTAAATGGGGTTAAATGGGGTTAAATGGGGTTAAATGGGGTTAAATGGGGTTAAATGGGGTTAAATGGGGTTAAATGGGGTTAAATGGGGTTAAATGGGGTTAAATGGGGTTAAATGGGGTTAAATGGGGTTAAATGGGGTTAAATGGGGTTAAATGGGGTTAAATGGGGTAAATGGGGTTTAAATGGGGTTAAATGGGGTTATAAATGGGGTAATGGGGTTAAATGGGGTTAAATGGGGTTAAATGGGGTTAAATGGGGTTAAATGGGGT'\n",
        "\n",
        "k = 10\n",
        "t = 19\n",
        "\n",
        "\n",
        "def solve(input_str, t, k):\n",
        "  d = {}\n",
        "  for i in range(len(input_str) - k):\n",
        "    if input_str[i:i+k] in d:\n",
        "      d[input_str[i:i+k]] += 1\n",
        "    else:\n",
        "      d[input_str[i:i+k]] = 1\n",
        "  ans = [s for s in d if d[s] >= t]\n",
        "  return ans"
      ],
      "metadata": {
        "id": "7hkd1qKeX_df"
      },
      "execution_count": null,
      "outputs": []
    },
    {
      "cell_type": "code",
      "source": [
        "print(*solve(input_str, t, k))"
      ],
      "metadata": {
        "colab": {
          "base_uri": "https://localhost:8080/"
        },
        "id": "HBLDVWMcYk9w",
        "outputId": "b160718f-3b08-4003-919c-b80c7a249aa3"
      },
      "execution_count": null,
      "outputs": [
        {
          "output_type": "stream",
          "name": "stdout",
          "text": [
            "CGTAGCTACT GACGATCTAG AACAACACTA TGTAATTCCA CTCAAAGGAA TCGCGATTAC CAGGGTGACT AGGGTGACTC GGGTGACTCA GGTGACTCAG GTGACTCAGG TGACTCAGGG GACTCAGGGT ACTCAGGGTG CTCAGGGTGA TCAGGGTGAC TAAATGGGGT AAATGGGGTT AATGGGGTTA ATGGGGTTAA TGGGGTTAAA GGGGTTAAAT GGGTTAAATG GGTTAAATGG GTTAAATGGG TTAAATGGGG\n"
          ]
        }
      ]
    },
    {
      "cell_type": "markdown",
      "source": [
        "###Task 2"
      ],
      "metadata": {
        "id": "B9jNDCBWc-cj"
      }
    },
    {
      "cell_type": "code",
      "source": [
        "with open('/content/rosalind_ba1f (1).txt') as f:\n",
        "    input_str = f.read()\n",
        "\n",
        "def solve(input_str):\n",
        "  i = 0\n",
        "  curr_skew = 0\n",
        "  min_skew = 0\n",
        "  ans = [0]\n",
        "  while(i < len(input_str)):\n",
        "    if input_str[i] == 'G':\n",
        "      curr_skew += 1\n",
        "    if input_str[i] == 'C':\n",
        "      curr_skew -= 1\n",
        "    if curr_skew == min_skew:\n",
        "      ans.append(i + 1)\n",
        "    if curr_skew < min_skew:\n",
        "      min_skew = curr_skew\n",
        "      ans = [i + 1]\n",
        "    i += 1\n",
        "  return ans"
      ],
      "metadata": {
        "id": "RF2zWmhXdAdl"
      },
      "execution_count": null,
      "outputs": []
    },
    {
      "cell_type": "code",
      "source": [
        "solve(input_str)"
      ],
      "metadata": {
        "colab": {
          "base_uri": "https://localhost:8080/"
        },
        "id": "nvyXBjVPhico",
        "outputId": "fcc46522-99ad-4e04-afb7-36c7209db3d7"
      },
      "execution_count": null,
      "outputs": [
        {
          "output_type": "execute_result",
          "data": {
            "text/plain": [
              "[92702]"
            ]
          },
          "metadata": {},
          "execution_count": 34
        }
      ]
    },
    {
      "cell_type": "markdown",
      "source": [
        "###Task 3"
      ],
      "metadata": {
        "id": "M_sbFcq3tpfT"
      }
    },
    {
      "cell_type": "code",
      "source": [
        "def hamming_distance(a, b):\n",
        "  dist = 0\n",
        "  for i in range(len(a)):\n",
        "    if a[i] != b[i]:\n",
        "      dist += 1\n",
        "  return dist\n",
        "\n",
        "def solve(input_str, pattern, k):\n",
        "  n = len(pattern)\n",
        "  ans = []\n",
        "  for i in range(len(input_str) - n):\n",
        "    if hamming_distance(pattern, input_str[i:i + n]) <= k:\n",
        "      ans.append(i)\n",
        "  return ans"
      ],
      "metadata": {
        "id": "bqi-cWFLtrYF"
      },
      "execution_count": null,
      "outputs": []
    },
    {
      "cell_type": "markdown",
      "source": [
        "###Task 4"
      ],
      "metadata": {
        "id": "gRY36ocu21XW"
      }
    },
    {
      "cell_type": "code",
      "source": [
        "def hamming_distance(a, b):\n",
        "  dist = 0\n",
        "  for i in range(len(a)):\n",
        "    if a[i] != b[i]:\n",
        "      dist += 1\n",
        "  return dist\n",
        "\n",
        "def add_new_strings(input_str, k, ans):\n",
        "  if k == 0:\n",
        "    return ans\n",
        "  else:\n",
        "    for i in range(len(input_str)):\n",
        "      for sym in ['A', 'C', 'G', 'T']:\n",
        "        if input_str[i] == sym:\n",
        "          continue\n",
        "        new_str = input_str[:i] + sym + input_str[i+1:]\n",
        "        #print(new_str)\n",
        "        ans.add(new_str)\n",
        "        new_ans = add_new_strings(new_str, k - 1, ans)\n",
        "        ans.union(new_ans)\n",
        "  #print(ans)\n",
        "  return ans\n",
        "\n",
        "def solve(input_str, k, t):\n",
        "  d = {}\n",
        "  for i in range(len(input_str) - k):\n",
        "    word = input_str[i:i + k]\n",
        "    new_words = set([word])\n",
        "    add_new_strings(word, t, new_words)\n",
        "    for new_word in new_words:\n",
        "      if new_word not in d:\n",
        "        d[new_word] = 0\n",
        "    for pattern in d:\n",
        "      if hamming_distance(pattern, word) <= t:\n",
        "        d[pattern] += 1\n",
        "\n",
        "  ans = []\n",
        "  max_cnt = 0\n",
        "  for pattern in d:\n",
        "    if d[pattern] == max_cnt:\n",
        "      ans.append(pattern)\n",
        "    if d[pattern] > max_cnt:\n",
        "      max_cnt = d[pattern]\n",
        "      ans = [pattern]\n",
        "  return ans"
      ],
      "metadata": {
        "id": "fKDwQ9KS2zwB"
      },
      "execution_count": null,
      "outputs": []
    },
    {
      "cell_type": "code",
      "source": [
        "input_str = 'ACGCCCAACGCACCAGCACGCCCAACACGCCCAACTACGGCGGCACCAGCTACGGCGGCACCAGCTACGGCGACCGAACATACGCCCAACTACGGCGACCGAACATGGCCGACGACGCCCAACACGCCCAACACGCCCAACGGCCGACGGCACCAGCACGCCCAACTACGGCGACCGAACATACGCCCAACACGCCCAACACCGAACATGGCCGACGGCACCAGCTACGGCGACCGAACATACCGAACATGCACCAGCACCGAACATGCACCAGCACCGAACATACCGAACATGCACCAGCACGCCCAACGGCCGACGGGCCGACGGGCCGACGACGCCCAACTACGGCGACGCCCAACACGCCCAACTACGGCGACGCCCAACGGCCGACGTACGGCGGCACCAGCACGCCCAACACGCCCAACGGCCGACGACGCCCAACGCACCAGCACCGAACATGCACCAGCACCGAACATGGCCGACGACCGAACATTACGGCGGGCCGACGACGCCCAACTACGGCGACCGAACATGGCCGACGACGCCCAACGCACCAGCGCACCAGCACGCCCAACACCGAACATGCACCAGCGCACCAGCTACGGCGACCGAACATACGCCCAACGCACCAGCGCACCAGCTACGGCGACGCCCAACACGCCCAACGGCCGACGTACGGCGGCACCAGCGGCCGACGGCACCAGCGGCCGACGTACGGCGTACGGCGGCACCAGCTACGGCGTACGGCGACCGAACATACGCCCAACGGCCGACGACGCCCAACGGCCGACGACCGAACATGGCCGACGGGCCGACGGGCCGACGGCACCAGCGGCCGACG'\n",
        "k = 6\n",
        "t = 2\n",
        "\n",
        "solve(input_str, k, t)"
      ],
      "metadata": {
        "colab": {
          "base_uri": "https://localhost:8080/"
        },
        "id": "BocSC7735_XD",
        "outputId": "c9e7d725-dc28-49af-bb25-87a6de8e33de"
      },
      "execution_count": null,
      "outputs": [
        {
          "output_type": "execute_result",
          "data": {
            "text/plain": [
              "['ACCCAC']"
            ]
          },
          "metadata": {},
          "execution_count": 94
        }
      ]
    },
    {
      "cell_type": "markdown",
      "source": [
        "###Task 5"
      ],
      "metadata": {
        "id": "eoWYqEHKJNxI"
      }
    },
    {
      "cell_type": "code",
      "source": [
        "pip install biopython"
      ],
      "metadata": {
        "colab": {
          "base_uri": "https://localhost:8080/"
        },
        "id": "yxzX8rgDWpdT",
        "outputId": "963d2722-8ae2-4014-81e6-8a715025bc43"
      },
      "execution_count": null,
      "outputs": [
        {
          "output_type": "stream",
          "name": "stdout",
          "text": [
            "Collecting biopython\n",
            "  Downloading biopython-1.81-cp310-cp310-manylinux_2_17_x86_64.manylinux2014_x86_64.whl (3.1 MB)\n",
            "\u001b[2K     \u001b[90m━━━━━━━━━━━━━━━━━━━━━━━━━━━━━━━━━━━━━━━━\u001b[0m \u001b[32m3.1/3.1 MB\u001b[0m \u001b[31m14.4 MB/s\u001b[0m eta \u001b[36m0:00:00\u001b[0m\n",
            "\u001b[?25hRequirement already satisfied: numpy in /usr/local/lib/python3.10/dist-packages (from biopython) (1.23.5)\n",
            "Installing collected packages: biopython\n",
            "Successfully installed biopython-1.81\n"
          ]
        }
      ]
    },
    {
      "cell_type": "code",
      "source": [
        "from Bio.Seq import Seq\n",
        "\n",
        "def reverse_complement(complement):\n",
        "  return str(Seq(complement).reverse_complement())\n",
        "\n",
        "\n",
        "def hamming_distance(a, b):\n",
        "  dist = 0\n",
        "  for i in range(len(a)):\n",
        "    if a[i] != b[i]:\n",
        "      dist += 1\n",
        "  return dist\n",
        "\n",
        "def add_new_strings(input_str, k, ans, prev_idx):\n",
        "  if k == 0:\n",
        "    return ans\n",
        "  else:\n",
        "    for i in range(len(input_str)):\n",
        "      if i in prev_idx:\n",
        "        continue\n",
        "      prev_idx.append(i)\n",
        "      for sym in ['A', 'C', 'G', 'T']:\n",
        "        if input_str[i] == sym:\n",
        "          continue\n",
        "        new_str = input_str[:i] + sym + input_str[i+1:]\n",
        "        ans.add(new_str)\n",
        "        new_ans = add_new_strings(new_str, k - 1, ans, prev_idx)\n",
        "        ans.union(new_ans)\n",
        "  return ans\n",
        "\n",
        "def count_t(input_str, word, subwords):\n",
        "  cnt = 0\n",
        "  for subword in subwords:\n",
        "    if hamming_distance(subword, word) <= t:\n",
        "      cnt += 1\n",
        "  return cnt\n",
        "\n",
        "def solve(input_str, k, t):\n",
        "  d = {}\n",
        "  d_r = {}\n",
        "  subwords = []\n",
        "\n",
        "  for i in range(len(input_str) - k):\n",
        "    subwords.append(input_str[i:i + k])\n",
        "\n",
        "  for word in subwords:\n",
        "    new_words = set([word])\n",
        "    add_new_strings(word, t, new_words, [])\n",
        "    for new_word in new_words:\n",
        "      d_r[new_word] = count_t(input_str, reverse_complement(new_word), subwords)\n",
        "      d[new_word] = count_t(input_str, new_word, subwords)\n",
        "\n",
        "  ans = []\n",
        "  max_cnt = 0\n",
        "  for pattern in d:\n",
        "    if d[pattern] + d_r[pattern] == max_cnt:\n",
        "      ans.append(pattern)\n",
        "    if d[pattern] + d_r[pattern] > max_cnt:\n",
        "      max_cnt = d[pattern] + d_r[pattern]\n",
        "      ans = [pattern]\n",
        "  reversed_ans = set()\n",
        "  for a in ans:\n",
        "    reversed_ans.add(a)\n",
        "    reversed_ans.add(reverse_complement(a))\n",
        "  return reversed_ans"
      ],
      "metadata": {
        "id": "B1ZHxPYcJR0i"
      },
      "execution_count": null,
      "outputs": []
    },
    {
      "cell_type": "code",
      "source": [
        "input_str = 'CAGAGGTGCAGAGGTGAAGGAAGCGGTTAGACTCAGAGGTGCGCTTGTCAGAGGTGAAGGAAGCGGGTTCATCAAGGAAGCGAAGGAAGCGGTTAGACTAAGGAAGCGGTTAGACTCGCTTGTAAGGAAGCGGTTAGACTCAGAGGTGGGTTCATCGTTAGACTAAGGAAGCGAAGGAAGCGGGTTCATCAAGGAAGCGGTTAGACTCAGAGGTGGGTTCATCAAGGAAGCGCGCTTGTAAGGAAGCGGGTTCATCGTTAGACTCAGAGGTGGGTTCATCGTTAGACTAAGGAAGCGCGCTTGTGGTTCATCAAGGAAGCGCGCTTGTCAGAGGTGAAGGAAGCGCAGAGGTGCAGAGGTGCAGAGGTGGTTAGACTCAGAGGTGCGCTTGTCGCTTGTCAGAGGTGGTTAGACTCAGAGGTGCAGAGGTGCAGAGGTGGTTAGACTCGCTTGTGTTAGACTCGCTTGTGGTTCATCCAGAGGTGGGTTCATCGTTAGACTGTTAGACTGTTAGACTAAGGAAGCGGGTTCATCAAGGAAGCGAAGGAAGCGAAGGAAGCGAAGGAAGCGGGTTCATCCGCTTGTAAGGAAGCGCAGAGGTGAAGGAAGCGGTTAGACTGTTAGACTGGTTCATCCGCTTGTCGCTTGTCGCTTGTGGTTCATCCAGAGGTGGTTAGACTGTTAGACTGGTTCATCGTTAGACTGTTAGACTCAGAGGTGGGTTCATCCGCTTGTCGCTTGTGGTTCATCCAGAGGTGGTTAGACTGGTTCATCCAGAGGTGCGCTTGTGGTTCATC'\n",
        "k = 7\n",
        "t = 2\n",
        "solve(input_str, k, t)"
      ],
      "metadata": {
        "colab": {
          "base_uri": "https://localhost:8080/"
        },
        "id": "oOMIa3C_KOco",
        "outputId": "6cd5fd71-51aa-49ad-a434-9b0f84b898a4"
      },
      "execution_count": null,
      "outputs": [
        {
          "output_type": "execute_result",
          "data": {
            "text/plain": [
              "{'AGCGCTG', 'CAGCGCT'}"
            ]
          },
          "metadata": {},
          "execution_count": 128
        }
      ]
    },
    {
      "cell_type": "markdown",
      "source": [
        "###Task 6"
      ],
      "metadata": {
        "id": "01vvKvR5NB9-"
      }
    },
    {
      "cell_type": "code",
      "source": [
        "import numpy as np"
      ],
      "metadata": {
        "id": "y-pLuOurP0Hl"
      },
      "execution_count": null,
      "outputs": []
    },
    {
      "cell_type": "code",
      "source": [
        "import numpy as np\n",
        "\n",
        "\n",
        "sym_map = {\n",
        "    'A': 0,\n",
        "    'C': 1,\n",
        "    'G': 2,\n",
        "    'T': 3\n",
        "}\n",
        "\n",
        "inv_sym_map = {\n",
        "    0: 'A',\n",
        "    1: 'C',\n",
        "    2: 'G',\n",
        "    3: 'T'\n",
        "}\n",
        "\n",
        "def find_consensus(motifs):\n",
        "  motifs = np.array([list(motif) for motif in motifs])\n",
        "  return [inv_sym_map[np.argmax(np.unique(motifs[:, i], return_counts=True)[1])] for i in range(len(motifs[0]))]\n",
        "\n",
        "def score_motif(motifs):\n",
        "  motifs = np.array([list(motif) for motif in motifs])\n",
        "  return len(motifs) * len(motifs[0]) -\\\n",
        "   np.sum([np.max(np.unique(motifs[:, i],  return_counts=True)[1]) for i in range(len(motifs[0]))])\n",
        "\n",
        "def find_probs(profile):\n",
        "  probs = np.zeros((len(profile[0]), 4))\n",
        "  for DNA in profile:\n",
        "    for i, sym in enumerate(DNA):\n",
        "      probs[i][[sym_map[sym]]] += 1\n",
        "  probs /= len(profile)\n",
        "  return probs\n",
        "\n",
        "def most_probable_kmer(DNA, profile, k):\n",
        "  best_prob = -1\n",
        "  best_kmer = None\n",
        "  probs = find_probs(profile)\n",
        "  for kmer in [DNA[i:i+k] for i in range(len(DNA) - k + 1)]:\n",
        "    prob = 1\n",
        "    for i, sym in enumerate(kmer):\n",
        "      prob *= probs[i][sym_map[sym]]\n",
        "    if prob > best_prob:\n",
        "      best_prob = prob\n",
        "      best_kmer = kmer\n",
        "  return best_kmer\n",
        "\n",
        "def solve(DNAs, k, t):\n",
        "  DNAs = [list(DNA) for DNA in DNAs]\n",
        "  best_motifs = [DNA[:k] for DNA in DNAs]\n",
        "  for kmer in [DNAs[0][i:i+k] for i in range(len(DNAs[0]) - k + 1)]:\n",
        "    profile = [kmer]\n",
        "    for i in range(1, t):\n",
        "      motifs = profile[:i]\n",
        "      new_kmer = most_probable_kmer(DNAs[i], motifs, k)\n",
        "      profile.append(new_kmer)\n",
        "    if score_motif(profile) < score_motif(best_motifs):\n",
        "      best_motifs = profile\n",
        "  return [\"\".join([str(sym) for sym in motif]) for motif in best_motifs]"
      ],
      "metadata": {
        "id": "XeO5GP3pNEKs"
      },
      "execution_count": null,
      "outputs": []
    },
    {
      "cell_type": "code",
      "source": [
        "def parse_file(filename):\n",
        "  lines = []\n",
        "  with open(filename) as f:\n",
        "    for line in f:\n",
        "      lines.append(line[:-2])\n",
        "  return lines[1:]\n",
        "\n",
        "with open(\"/content/rosalind_ba2d (6).txt\", \"r\") as f:\n",
        "    k, t = map(int, f.readline().strip().split())\n",
        "    DNAs = [line.strip() for line in f]\n",
        "k = 12\n",
        "t = 25\n",
        "\n",
        "ans = solve(DNAs, k, t)\n",
        "for motif in ans:\n",
        "  print(motif)"
      ],
      "metadata": {
        "colab": {
          "base_uri": "https://localhost:8080/"
        },
        "id": "lKnxUzqsqo5v",
        "outputId": "ef3602cf-ee6b-47ea-e30c-7d0a610cb435"
      },
      "execution_count": null,
      "outputs": [
        {
          "output_type": "stream",
          "name": "stdout",
          "text": [
            "ATGGAAGCGTCC\n",
            "ACAATAGGTTAG\n",
            "TAGGGAACCGAC\n",
            "TTGGTTTACAAG\n",
            "TAGTGAATTTTT\n",
            "TAGGGACTCGGC\n",
            "AAGGGACACATG\n",
            "AAGAGAGCTGCG\n",
            "TAGGGAGTCGTC\n",
            "TATGGAGCCGAC\n",
            "TATGGAGCCGGC\n",
            "TAAGGAAACGAC\n",
            "TATGGAACCGGC\n",
            "TATGGACACGCC\n",
            "TATGGAGCCGTC\n",
            "TAAGGAGTCGGC\n",
            "TAGGGACCCGTC\n",
            "TAAGGAAGCGTC\n",
            "TATGGAAGCGTC\n",
            "TAAGGAATCGCC\n",
            "TAAGGAGGCGAC\n",
            "TAGGGATACGTC\n",
            "TAGGGACCCGAC\n",
            "TATGGAGTCGCC\n",
            "AAGTGTTACGAC\n"
          ]
        }
      ]
    },
    {
      "cell_type": "markdown",
      "source": [
        "###Task 7"
      ],
      "metadata": {
        "id": "E6TY9wfkzWMt"
      }
    },
    {
      "cell_type": "code",
      "source": [
        "import numpy as np\n",
        "\n",
        "\n",
        "sym_map = {\n",
        "    'A': 0,\n",
        "    'C': 1,\n",
        "    'G': 2,\n",
        "    'T': 3\n",
        "}\n",
        "\n",
        "inv_sym_map = {\n",
        "    0: 'A',\n",
        "    1: 'C',\n",
        "    2: 'G',\n",
        "    3: 'T'\n",
        "}\n",
        "\n",
        "def find_consensus(motifs):\n",
        "  motifs = np.array([list(motif) for motif in motifs])\n",
        "  return [inv_sym_map[np.argmax(np.unique(motifs[:, i], return_counts=True)[1])] for i in range(len(motifs[0]))]\n",
        "\n",
        "def score_motif(motifs):\n",
        "  motifs = np.array([list(motif) for motif in motifs])\n",
        "  return len(motifs) * len(motifs[0]) -\\\n",
        "   np.sum([np.max(np.unique(motifs[:, i],  return_counts=True)[1]) for i in range(len(motifs[0]))])\n",
        "\n",
        "def find_probs(profile):\n",
        "  probs = np.ones((len(profile[0]), 4))\n",
        "  for DNA in profile:\n",
        "    for i, sym in enumerate(DNA):\n",
        "      probs[i][[sym_map[sym]]] += 1\n",
        "  probs /= len(profile)\n",
        "  return probs\n",
        "\n",
        "def most_probable_kmer(DNA, profile, k):\n",
        "  best_prob = -1\n",
        "  best_kmer = None\n",
        "  probs = find_probs(profile)\n",
        "  for kmer in [DNA[i:i+k] for i in range(len(DNA) - k + 1)]:\n",
        "    prob = 1\n",
        "    for i, sym in enumerate(kmer):\n",
        "      prob *= probs[i][sym_map[sym]]\n",
        "    if prob > best_prob:\n",
        "      best_prob = prob\n",
        "      best_kmer = kmer\n",
        "  return best_kmer\n",
        "\n",
        "def solve(DNAs, k, t):\n",
        "  DNAs = [list(DNA) for DNA in DNAs]\n",
        "  best_motifs = [DNA[:k] for DNA in DNAs]\n",
        "  for kmer in [DNAs[0][i:i+k] for i in range(len(DNAs[0]) - k + 1)]:\n",
        "    profile = [kmer]\n",
        "    for i in range(1, t):\n",
        "      motifs = profile[:i]\n",
        "      new_kmer = most_probable_kmer(DNAs[i], motifs, k)\n",
        "      profile.append(new_kmer)\n",
        "    if score_motif(profile) < score_motif(best_motifs):\n",
        "      best_motifs = profile\n",
        "  return [\"\".join([str(sym) for sym in motif]) for motif in best_motifs]"
      ],
      "metadata": {
        "id": "RRQt__BXzZq3"
      },
      "execution_count": null,
      "outputs": []
    },
    {
      "cell_type": "markdown",
      "source": [],
      "metadata": {
        "id": "RZlBbw3Z6eT5"
      }
    },
    {
      "cell_type": "code",
      "source": [
        "def parse_file(filename):\n",
        "  lines = []\n",
        "  with open(filename) as f:\n",
        "    for line in f:\n",
        "      lines.append(line[:-2])\n",
        "  return lines[1:]\n",
        "\n",
        "with open(\"/content/rosalind_ba2e.txt\", \"r\") as f:\n",
        "    k, t = map(int, f.readline().strip().split())\n",
        "    DNAs = [line.strip() for line in f]\n",
        "k = 12\n",
        "t = 25\n",
        "\n",
        "ans = solve(DNAs, k, t)\n",
        "for motif in ans:\n",
        "  print(motif)"
      ],
      "metadata": {
        "colab": {
          "base_uri": "https://localhost:8080/"
        },
        "id": "FX4h4DA_1EGC",
        "outputId": "3ef48a80-6603-495e-feea-eb3c0f007eb2"
      },
      "execution_count": null,
      "outputs": [
        {
          "output_type": "stream",
          "name": "stdout",
          "text": [
            "GTTCGCTTAAAG\n",
            "GGAGGCTTAATG\n",
            "GGAAGTTTAATC\n",
            "GGAGTCTTAATC\n",
            "GGAGATTTAATA\n",
            "GGACGATGACTC\n",
            "GGAGACTTAATG\n",
            "GGAGATTTAATT\n",
            "GGAAGATTAATT\n",
            "GGACCGTTAATC\n",
            "GGATAATTAATG\n",
            "GGAGTTTTAATC\n",
            "GGATCCTTAATC\n",
            "GGACATTTAATA\n",
            "GGAATTTTAATA\n",
            "GGATGTTTAATA\n",
            "GGAAAATTAATA\n",
            "GAACGAATAACA\n",
            "GGAACTTTAATT\n",
            "GGAAGTTTAATG\n",
            "GGACGATTAATG\n",
            "GGATTCTTAATG\n",
            "GGACCCTTAATG\n",
            "GGAAATTTAATT\n",
            "GGAGTATTAATG\n"
          ]
        }
      ]
    },
    {
      "cell_type": "markdown",
      "source": [
        "###Task 8"
      ],
      "metadata": {
        "id": "XTQyoZNr6gkG"
      }
    },
    {
      "cell_type": "code",
      "source": [
        "import numpy as np\n",
        "import scipy.stats as sps\n",
        "\n",
        "sym_map = {\n",
        "    'A': 0,\n",
        "    'C': 1,\n",
        "    'G': 2,\n",
        "    'T': 3\n",
        "}\n",
        "\n",
        "inv_sym_map = {\n",
        "    0: 'A',\n",
        "    1: 'C',\n",
        "    2: 'G',\n",
        "    3: 'T'\n",
        "}\n",
        "\n",
        "def score_motif(motifs):\n",
        "  motifs = np.array([list(motif) for motif in motifs])\n",
        "  return len(motifs) * len(motifs[0]) -\\\n",
        "   np.sum([np.max(np.unique(motifs[:, i],  return_counts=True)[1]) for i in range(len(motifs[0]))])\n",
        "\n",
        "def find_probs(profile):\n",
        "  probs = np.ones((len(profile[0]), 4))\n",
        "  for DNA in profile:\n",
        "    for i, sym in enumerate(DNA):\n",
        "      probs[i][[sym_map[sym]]] += 1\n",
        "  probs /= len(profile)\n",
        "  return probs\n",
        "\n",
        "def most_probable_kmer(DNA, profile, k):\n",
        "  best_prob = -1\n",
        "  best_kmer = None\n",
        "  probs = find_probs(profile)\n",
        "  for kmer in [DNA[i:i+k] for i in range(len(DNA) - k + 1)]:\n",
        "    prob = 1\n",
        "    for i, sym in enumerate(kmer):\n",
        "      prob *= probs[i][sym_map[sym]]\n",
        "    if prob > best_prob:\n",
        "      best_prob = prob\n",
        "      best_kmer = kmer\n",
        "  return best_kmer\n",
        "\n",
        "def random_search(DNAs, profile):\n",
        "  motifs = []\n",
        "  for i in range(t):\n",
        "    motifs.append(most_probable_kmer(DNAs[i], profile, k))\n",
        "  return motifs\n",
        "\n",
        "\n",
        "def solve(DNAs, k, t):\n",
        "  DNAs = [list(DNA) for DNA in DNAs]\n",
        "  idx = sps.randint(0, len(DNAs[0]) - k).rvs(size=t)\n",
        "  best_motifs = [DNAs[i][idx[i]:idx[i] + k] for i in range(t)]\n",
        "  best_motifs_score = score_motif(best_motifs)\n",
        "  motifs = best_motifs\n",
        "  while(True):\n",
        "    profile = motifs\n",
        "    motifs = random_search(DNAs, profile)\n",
        "    score = score_motif(motifs)\n",
        "    if score < best_motifs_score:\n",
        "      best_motifs = profile\n",
        "      best_motifs_score = score\n",
        "    else:\n",
        "      return [\"\".join([str(sym) for sym in motif]) for motif in best_motifs]\n",
        "\n",
        "def select_best_from_random(DNAs, k, t, iters=1500):\n",
        "  best_motif = solve(DNAs, k, t)\n",
        "  best_score = score_motif(best_motif)\n",
        "  for i in range(iters):\n",
        "    if i % 100 == 0:\n",
        "      print(f'ITER {i} COMPLETED')\n",
        "    sample = solve(DNAs, k, t)\n",
        "    score = score_motif(sample)\n",
        "    if score < best_score:\n",
        "      best_motifs = sample\n",
        "      best_score = score\n",
        "  return best_motifs"
      ],
      "metadata": {
        "id": "82SKUFVj6inm"
      },
      "execution_count": null,
      "outputs": []
    },
    {
      "cell_type": "code",
      "source": [
        "k = 8\n",
        "t = 5\n",
        "DNAs = [\n",
        "'CGCCCCTCTCGGGGGTGTTCAGTAAACGGCCA',\n",
        "'GGGCGAGGTATGTGTAAGTGCCAAGGTGCCAG',\n",
        "'TAGTACCGAGACCGAAAGAAGTATACAGGCGT',\n",
        "'TAGATCAAGTTTCAGGTGCACGTCGGTGAACC',\n",
        "'AATCCACCAGCTCCACGTGCAATGTTGGCCTA'\n",
        "]\n",
        "select_best_from_random(DNAs, k, t)"
      ],
      "metadata": {
        "colab": {
          "base_uri": "https://localhost:8080/"
        },
        "id": "tHRDglWIVsrs",
        "outputId": "9963c19d-975d-4440-cd90-5fec8674caa2"
      },
      "execution_count": null,
      "outputs": [
        {
          "output_type": "stream",
          "name": "stdout",
          "text": [
            "ITER 0 COMPLETED\n",
            "ITER 100 COMPLETED\n",
            "ITER 200 COMPLETED\n",
            "ITER 300 COMPLETED\n",
            "ITER 400 COMPLETED\n"
          ]
        },
        {
          "output_type": "execute_result",
          "data": {
            "text/plain": [
              "['GTAAACGG', 'GTAAGTGC', 'GTATACAG', 'GTGCACGT', 'GTGCAATG']"
            ]
          },
          "metadata": {},
          "execution_count": 219
        }
      ]
    },
    {
      "cell_type": "code",
      "source": [
        "import time\n",
        "with open(\"/content/rosalind_ba2f (2).txt\", \"r\") as f:\n",
        "    k, t = map(int, f.readline().strip().split())\n",
        "    DNAs = [line.strip() for line in f]\n",
        "\n",
        "start = time.time()\n",
        "ans = select_best_from_random(DNAs, k, t)\n",
        "for motif in ans:\n",
        "  print(motif)\n",
        "print(f'Completed in {time.time() - start} seconds')"
      ],
      "metadata": {
        "colab": {
          "base_uri": "https://localhost:8080/"
        },
        "id": "gUeGn_cbOKCS",
        "outputId": "1cf77888-3027-483d-fab3-055b35e59ed8"
      },
      "execution_count": null,
      "outputs": [
        {
          "output_type": "stream",
          "name": "stdout",
          "text": [
            "ITER 0 COMPLETED\n",
            "ITER 100 COMPLETED\n",
            "ITER 200 COMPLETED\n",
            "ITER 300 COMPLETED\n",
            "ITER 400 COMPLETED\n",
            "ACTTCTCTCCTTAAC\n",
            "AATTAACGCCTTGGC\n",
            "AATCCGCGTGGTGGC\n",
            "AATCCGCGCTGAGGC\n",
            "AATCCGCGCCTTATT\n",
            "AATCAAGGCCTTGGC\n",
            "AAATAGCGCCTTGGC\n",
            "AATCTAGGCCTTGGC\n",
            "AATCCGCGCCAGAGC\n",
            "TCGCCGCGCCTTGGC\n",
            "AATCCCGCCCTTGGC\n",
            "AATCCGCTATTTGGC\n",
            "AATCCGGAACTTGGC\n",
            "TGTCCGCGCCTTGGA\n",
            "GATCCGCGCCTTGCG\n",
            "ACCACGCGCCTTGGC\n",
            "AATCCGTTTCTTGGC\n",
            "AATCCTGACCTCGGG\n",
            "AATGGACGCCTTGGC\n",
            "AATCCCGCCCTTGGC\n",
            "Completed in 87.11071372032166 seconds\n"
          ]
        }
      ]
    },
    {
      "cell_type": "markdown",
      "source": [
        "###Task 9"
      ],
      "metadata": {
        "id": "1arYjP-kft1Y"
      }
    },
    {
      "cell_type": "code",
      "source": [
        "import numpy as np\n",
        "import scipy.stats as sps\n",
        "\n",
        "def score_motif(motifs):\n",
        "  motifs = np.array([list(motif) for motif in motifs])\n",
        "  return len(motifs) * len(motifs[0]) -\\\n",
        "   np.sum([np.max(np.unique(motifs[:, i],  return_counts=True)[1]) for i in range(len(motifs[0]))])\n",
        "\n",
        "def find_probs(profile):\n",
        "  probs = np.ones((len(profile[0]), 4))\n",
        "  for DNA in profile:\n",
        "    for i, sym in enumerate(DNA):\n",
        "      probs[i][[sym_map[sym]]] += 1\n",
        "  probs /= len(profile)\n",
        "  return probs\n",
        "\n",
        "def profile_random_sample(profile, DNA, t, k):\n",
        "  kmers = [DNA[i:i + k] for i in range(len(DNA) - k)]\n",
        "  probs = find_probs(profile)\n",
        "  motif_probs = []\n",
        "  for kmer in kmers:\n",
        "    prob = 1\n",
        "    for i, sym in enumerate(kmer):\n",
        "      prob *= probs[i][sym_map[sym]]\n",
        "    motif_probs.append(prob)\n",
        "  motif_probs = np.array(motif_probs) / np.sum(motif_probs)\n",
        "  idx = np.random.choice([i for i in range(len(DNA) - k)], p=motif_probs)\n",
        "  return DNA[idx:idx + k]\n",
        "\n",
        "def solve(DNAs, k, t, N):\n",
        "  DNAs = [list(DNA) for DNA in DNAs]\n",
        "  idx = sps.randint(0, len(DNAs[0]) - k).rvs(size=t)\n",
        "  best_motifs = [DNAs[i][idx[i]:idx[i] + k] for i in range(t)]\n",
        "  best_motifs_score = score_motif(best_motifs)\n",
        "  for _ in range(N):\n",
        "    motifs = best_motifs\n",
        "    j = sps.randint(0, t).rvs(1)[0]\n",
        "    del motifs[j]\n",
        "    random_sample = profile_random_sample(motifs, DNAs[j], t, k)\n",
        "    motifs.insert(j, random_sample)\n",
        "    score = score_motif(motifs)\n",
        "    if score < best_motifs_score:\n",
        "      best_motifs = motifs\n",
        "      best_motifs_score = score\n",
        "  return [\"\".join([str(sym) for sym in motif]) for motif in best_motifs]\n",
        "\n",
        "def select_best_from_gibbs(DNAs, k, t, N, iters=20):\n",
        "  best_motifs = solve(DNAs, k, t, N)\n",
        "  best_score = score_motif(best_motifs)\n",
        "  for i in range(iters):\n",
        "    if i % 500 == 0:\n",
        "      print(f'ITER {i} COMPLETED')\n",
        "    sample = solve(DNAs, k, t, N)\n",
        "    score = score_motif(sample)\n",
        "    if score < best_score:\n",
        "      best_motifs = sample\n",
        "      best_score = score\n",
        "  return best_motifs"
      ],
      "metadata": {
        "id": "s2o9WP9Hgfu5"
      },
      "execution_count": null,
      "outputs": []
    },
    {
      "cell_type": "code",
      "source": [
        "import time\n",
        "with open(\"/content/rosalind_ba2g (6).txt\", \"r\") as f:\n",
        "    k, t, N = map(int, f.readline().strip().split())\n",
        "    DNAs = [line.strip() for line in f]\n",
        "\n",
        "start = time.time()\n",
        "ans = select_best_from_gibbs(DNAs, k, t, N, iters=20)\n",
        "for motif in ans:\n",
        "  print(motif)\n",
        "print(f'Completed in {time.time() - start} seconds')"
      ],
      "metadata": {
        "colab": {
          "base_uri": "https://localhost:8080/"
        },
        "id": "Rbn-we9TlT9Z",
        "outputId": "8d82b7ae-1a33-4d91-e207-6a8e70371504"
      },
      "execution_count": null,
      "outputs": [
        {
          "output_type": "stream",
          "name": "stdout",
          "text": [
            "ITER 0 COMPLETED\n",
            "GATAGGTAAATAGCA\n",
            "GACGGCAAACCACCG\n",
            "GACATGAAACCAATC\n",
            "GACATTTGACCACCG\n",
            "CACATGAAACCACAA\n",
            "GACATGTGCCCACCG\n",
            "GACACCCAACCACCG\n",
            "GACATGAAACCCGTG\n",
            "GACTGCAAACCACCG\n",
            "GACATTGTACCACCG\n",
            "ACGATGAAACCACCG\n",
            "GATTCGAAACCACCG\n",
            "GACATGGCGCCACCG\n",
            "GACATGAAAAGGCCG\n",
            "GACATGAATAGACCG\n",
            "GTACTGAAACCACCG\n",
            "GACATGAAACTTTCG\n",
            "GACATGAGTACACCG\n",
            "CTCATGAAACCACCA\n",
            "GACAGTGAACCACCG\n",
            "Completed in 159.08813333511353 seconds\n"
          ]
        }
      ]
    },
    {
      "cell_type": "markdown",
      "source": [
        "###Task 10"
      ],
      "metadata": {
        "id": "h_uYYkbML9bq"
      }
    },
    {
      "cell_type": "code",
      "source": [
        "import numpy as np\n",
        "\n",
        "def hamming_distance(a, b):\n",
        "  dist = 0\n",
        "  for i in range(len(a)):\n",
        "    if a[i] != b[i]:\n",
        "      dist += 1\n",
        "  return dist\n",
        "\n",
        "def solve(pattern, DNAs):\n",
        "  k = len(pattern)\n",
        "  dist = 0\n",
        "  for DNA in DNAs:\n",
        "    local_dist = len(DNAs[0])\n",
        "    kmers = [DNA[i:i + k] for i in range(len(DNA) - k)]\n",
        "    for kmer in kmers:\n",
        "      if hamming_distance(pattern, kmer) < local_dist:\n",
        "        local_dist = hamming_distance(pattern, kmer)\n",
        "    dist += local_dist\n",
        "  return dist"
      ],
      "metadata": {
        "id": "cvXc9RppL5dk"
      },
      "execution_count": null,
      "outputs": []
    },
    {
      "cell_type": "code",
      "source": [
        "pattern = 'AAA'\n",
        "DNAs = ['TTACCTTAAC', 'GATATCTGTC', 'ACGGCGTTCG', 'CCCTAAAGAG', 'CGTCAGAGGT']\n",
        "solve(pattern, DNAs)"
      ],
      "metadata": {
        "colab": {
          "base_uri": "https://localhost:8080/"
        },
        "id": "hlihq-BJOpvo",
        "outputId": "6a6b2574-46b9-4ef5-9c6c-916c0a401e3f"
      },
      "execution_count": null,
      "outputs": [
        {
          "output_type": "execute_result",
          "data": {
            "text/plain": [
              "5"
            ]
          },
          "metadata": {},
          "execution_count": 330
        }
      ]
    },
    {
      "cell_type": "code",
      "source": [
        "with open(\"/content/rosalind_ba2h.txt\", \"r\") as f:\n",
        "    pattern = f.readline().strip()\n",
        "    DNAs = f.readline().strip().split()\n",
        "solve(pattern, DNAs)"
      ],
      "metadata": {
        "colab": {
          "base_uri": "https://localhost:8080/"
        },
        "id": "2JW4UzQ3PaUa",
        "outputId": "fe1df016-7b79-498e-8496-8acc659cc0e9"
      },
      "execution_count": null,
      "outputs": [
        {
          "output_type": "execute_result",
          "data": {
            "text/plain": [
              "43"
            ]
          },
          "metadata": {},
          "execution_count": 331
        }
      ]
    },
    {
      "cell_type": "markdown",
      "source": [
        "###Task 11"
      ],
      "metadata": {
        "id": "idvJzMDGpqfH"
      }
    },
    {
      "cell_type": "code",
      "source": [
        "def solve(kmers_):\n",
        "  kmers = kmers_.copy()\n",
        "  k = len(kmers[0])\n",
        "  ans = kmers[0]\n",
        "  del kmers[0]\n",
        "  while len(kmers) > 0:\n",
        "    for i in range(len(kmers)):\n",
        "      kmer = kmers[i]\n",
        "      if ans[:k - 1] == kmer[1:]:\n",
        "        ans = kmer[0] + ans\n",
        "        del kmers[i]\n",
        "        break\n",
        "      if ans[-(k - 1):] == kmer[:-1]:\n",
        "        ans = ans + kmer[-1]\n",
        "        del kmers[i]\n",
        "        break\n",
        "  return ans"
      ],
      "metadata": {
        "id": "nqJ79wSWpssL"
      },
      "execution_count": null,
      "outputs": []
    },
    {
      "cell_type": "code",
      "source": [
        "with open(\"/content/rosalind_ba3h.txt\", \"r\") as f:\n",
        "    k = map(int, f.readline().strip().split())\n",
        "    kmers = [line.strip() for line in f]"
      ],
      "metadata": {
        "id": "jXO3NJxku861"
      },
      "execution_count": null,
      "outputs": []
    },
    {
      "cell_type": "code",
      "source": [
        "solve(kmers)"
      ],
      "metadata": {
        "colab": {
          "base_uri": "https://localhost:8080/",
          "height": 222
        },
        "id": "BmMX1_9wrW1P",
        "outputId": "c579fcc2-123f-4c09-a0c1-bfff19b8f498"
      },
      "execution_count": null,
      "outputs": [
        {
          "output_type": "execute_result",
          "data": {
            "text/plain": [
              "'TTTATCTGATCGCTGGTTGTCACCTTTTGAATGAACGAGAGCACATTACCATAACAAGGTCAACCGCTCGCTGAAGGTTGAGGTCGCAGACAGAGGCAGTTACATCCCATTCCTGTGTCCATCGGGGGGAGCCCCTTAAGTGAGTTCCTGATGACTTAGAGGGAGAGCCCGCCGAGCACCACTCCGAGACTCAGTACCTAGCTAATGTAGTTGAGAATAATGCAGCTGGTACTTGCCGCTATATAGGATGCCAGTGAACGAGGCTTAGCGTACCCCCCGGGGTTGTAATGTGATTAGGAGTCGTACGTAGTCATCGCGAAGAGGGGTGCCATCCCCCAACATGTAGAAGAGTAAAAACAAAGACTGAGAGCTTGCACCATAAAACCGTGGTCTGCGCAGTCGTGTTTATGTACTTGGCACGCGACCTTTAAGCACTCGTCTAGGCTTGTTCTTTCTTATACAGAGTGTCTCCGCGCTCTAAGTATGAACCATTACCTAGTCCTCTGTCCATTTGTGTGGCCTGAGTTGGGATTGAAAGGCTCAAGCGCCGGCTTTAGTAGTATGGTGCGGTTGACTCTAGTATCACAAATGCTGGGAGTCATGGGTAGTAGATTCGGGCACTGGAACATTGGGCGAAAAGGTTGAGCAGACAGACCTACGCCAGGCCCCCTCATGCTATGGCTTTTATGGCACACGCCTGGCTAGTGTCTGCTAGCCATCGGAAAATGACCTGGTTTTTCCCGGAGTGAATGCTACCTTCTTATGCTCCGACTCTCTTAATTCGAGGGTACGGCGGAGGCTTGGCACAGGCTATAGGCTGGTGCCGGTATACATGTAGCCAGAACTAAAGCGGCGTCGTATGCTCTCAACGTTCATCGGGGGAGGACGAACTTAGAATCCATAACACTGGTCCCGTACTCTCCAAACCGTAAAGACGATCACGCAAGCAACTCCCACCTCGCGGTATCGATACGGTAGCCCATATTTCCTGATTCAGCAAGGTAACCTAATGCAAAACCGTGGCCATCTCGAATAACAACGTGGGGTCATTAGTCATACACCTAGGAACGGAACCCGTAGCCGACGAGGACGCCAGGGTTGTCCTCCCGTGCAACAATATTAAGAGGACACTCTGGGGTTGCCCATGAATTGCACAGGATAAGAGTGATTGCTGTCAACGGGGGAAGCCCGACGAACTTCCCAATAAGCATGGTTATCTAAGTCGATGTAGTAAATATCACACTGGCCATCCTATCTGTCCACACAATATAGTCTGACGCGACGCCGCAGTCACAACTCAGTACTCTGACTACCCCGCTCTTTATTAATACGAGTAAATCCCCCACGGGTCATTAGGTACGAGCAGACGGGACTAGGCGTAATGGAGACCATCTAAACGCAAGCCGCCGATAAAATTTAAATATTGGTGACTCGAAGGTCAAGGGCTACTGTCAGTTTGCATACGGCCATAATTACGGGTTTCCCAGGAATTTATCGGTCGTCTGGTACGTTGCCGACTGAATCAGAGTGTTGTAACAAAATTGCGGTTTAGTTTTCACCGAATAGAGCGGTCTTCGCCCTGCCGAGCTGTGGTAGGTCTAGGCGGGCAACTCGTCTGGAATCTGGCGGGTGCCACCACTTTCGGTGGAGGCTGTAACGGACTTTTCGTAGCCATGACCTATGGTAATCAGTCTGCTCTCTATTCCAACGCGTTTACAGAGTATGAAGCTTGTCGTTCGTTGTAGTATCCTAATTGACGCGAACACCGTACGTCTACGTATGTTGCACCGATTTAGCCAGAGGTTAGCCTTCGCTATATCGAATGATACCGCTGCTCGGTTGGCGAGCGGACAGAATTAACGTCAAAGAACCTCAGTATTTGTAAGTGAGTGTCGGCGTGCAGAGAGCCGGATACAGTGATTGGATCATTAACATTACATTATATAACCCGCGTAAATCTTCCTATATTTCATATAATGACGATCCAAGACGTCTCCTCTGCTTGTTTCATATCTAGAGCAATAGCCGCGAGACTAGGCACGGGGGAACCATGAATCGCTTGTGCGCGCTCGCAGCGACAATAACACATTCCCCCGCAGCTTCATATGAGCCGCCCCTGAAGCTCGCGGATGTTTGAATTATCACGTGAGGCTAGAGGACAGATCTTCCCACATGCATGTAACATCCTTGGGGAATCCAAGGCTGACCTCAAGACATCAAATCATATATAGCGTGGTGTA'"
            ],
            "application/vnd.google.colaboratory.intrinsic+json": {
              "type": "string"
            }
          },
          "metadata": {},
          "execution_count": 60
        }
      ]
    },
    {
      "cell_type": "markdown",
      "source": [
        "###Task 12"
      ],
      "metadata": {
        "id": "ndDIBKFevypY"
      }
    },
    {
      "cell_type": "code",
      "source": [
        "def solve(k):\n",
        "  ans = '0' * k\n",
        "  strings = {ans}\n",
        "  while len(ans) < 2 ** k:\n",
        "    prefix = ans[-(k - 1):]\n",
        "    if prefix + '1' not in strings:\n",
        "      strings.add(prefix + '1')\n",
        "      ans += '1'\n",
        "    else:\n",
        "      strings.add(prefix + '0')\n",
        "      ans += '0'\n",
        "  return ans"
      ],
      "metadata": {
        "id": "XSI3u-rIvx8R"
      },
      "execution_count": null,
      "outputs": []
    },
    {
      "cell_type": "markdown",
      "source": [
        "###Task 13"
      ],
      "metadata": {
        "id": "fYkqSdb4hrrv"
      }
    },
    {
      "cell_type": "code",
      "source": [
        "from collections import defaultdict\n",
        "\n",
        "def build_graph(pairs):\n",
        "  graph = defaultdict(list)\n",
        "  for pair in pairs:\n",
        "    pref = (pair[0][:-1], pair[1][:-1])\n",
        "    suff = (pair[0][1:], pair[1][1:])\n",
        "    graph[pref].append(suff)\n",
        "  return graph\n",
        "\n",
        "def find_euler_path(graph, start):\n",
        "  stack = [start]\n",
        "  path = []\n",
        "  while len(stack) > 0:\n",
        "    w = stack[-1]\n",
        "    flag = False\n",
        "    for u in graph[w]:\n",
        "      stack.append(u)\n",
        "      graph[w].remove(u)\n",
        "      flag = True\n",
        "      break\n",
        "    if not flag:\n",
        "      w = stack.pop()\n",
        "      path.append(w)\n",
        "  return path\n",
        "\n",
        "def find_start_end(graph):\n",
        "  in_count = defaultdict(int)\n",
        "  out_count = defaultdict(int)\n",
        "  for v in graph:\n",
        "    in_count[v] += 0\n",
        "    out_count[v] += len(graph[v])\n",
        "    for u in graph[v]:\n",
        "      out_count[u] += 0\n",
        "      in_count[u] += 1\n",
        "  start, end = 0, 0\n",
        "  for v in in_count:\n",
        "    if in_count[v] < out_count[v]:\n",
        "      start = v\n",
        "    if in_count[v] > out_count[v]:\n",
        "      end = v\n",
        "  return start, end\n",
        "\n",
        "def reconstruct(path, k, d):\n",
        "  string = path[0][0]\n",
        "  for i in range(1, min(len(path), k + d)):\n",
        "    string += path[i][0][-1]\n",
        "  for i in range(len(path)):\n",
        "    string += path[i][1][-1]\n",
        "  return string\n",
        "\n",
        "def solve(pairs, k, d):\n",
        "  graph = build_graph(pairs)\n",
        "  start, end = find_start_end(graph)\n",
        "  graph_ = graph.copy()\n",
        "  path = find_euler_path(graph_, start)\n",
        "  return reconstruct(path[::-1], k, d)"
      ],
      "metadata": {
        "id": "ypRKZEA3hub9"
      },
      "execution_count": null,
      "outputs": []
    },
    {
      "cell_type": "code",
      "source": [
        "with open(\"/content/rosalind_ba3l.txt\", \"r\") as f:\n",
        "    k, d = map(int, f.readline().strip().split())\n",
        "    pairs = [tuple(line.strip().split('|')) for line in f]"
      ],
      "metadata": {
        "id": "XzBUBL4CA-LU"
      },
      "execution_count": null,
      "outputs": []
    },
    {
      "cell_type": "code",
      "source": [
        "solve(pairs, k, d)"
      ],
      "metadata": {
        "colab": {
          "base_uri": "https://localhost:8080/",
          "height": 452
        },
        "id": "hwMd8z5sBhsG",
        "outputId": "daed6f95-3ce4-4ecc-865c-f8e96499f5e7"
      },
      "execution_count": null,
      "outputs": [
        {
          "output_type": "execute_result",
          "data": {
            "text/plain": [
              "'ATACAGCCTGCTTCGGTGCGTCAAACAAACGGAGATGTGACCCAGCCAGCGTGCCCTCTACCCTGGCGTGACCCAGCCAGCGTGCCCTCTACCCTGGCGCCTTGGCTTCGACAACAGGCCTTGGCTTCGACAACAGAGATCTAATTCGCCATTACACGAGCAAGTGGCTTCCGGCGGATTTGCTACTAATTGGTGACCCAGCCAGCGTGCCCGTGACCCAGCCAGCGTGCCCTCTACCCTGGCGCCTTGGCTTCGACAACAGTCTACCCTGGCGCCTTGGCTTCGACAACAGGGGTGACCCAGCCAGCGTGCCCTCTACCCTGGCGCCTTGTGACCCAGCCAGCGTGCCCTCTACCCTGGCGCCTTGGCTTCGACAACAGGGCTTCGACAACAGGGCGACGTGACCCAGCCAGCGTGCCCTCTACCCTGGCGCCTTGGCTTCGACAACAGTAATCATCAGTTAATGTCGTGACCCAGCCAGCGTGCCCTCTACCCTGGCGCCTTGGCTTCGACAACAGGACTTTGATAGATCTACAACCTTGATCATCAGTGTGACCCAGCCAGCGTGCCCTCTACCCTGGCGCCTTGGCTTCGACAACAGTGCCACTTGGATGTAGTCACTGTGACCCAGCCAGCGTGCCCTCTACCCTGGCGCCTTGGCTTCGACAACAGATTGGGTAATGCGGAGCCACGATGGGCACTTAAAAGTGACCCAGTGACCCAGCCAGCGTGCCCTCTACCCTGGCGCCTTGGCTTCGACAACAGGCCAGCGTGCCCTCTACCCTGGCGCCTTGGCTTCGACAACAGGCGCAACGCGGTTGAACAATATTCTCGCAACGCACACTCATGAATTCGGCTGTTGAATAATGCCGGTATCTCCGAGCATTCTATTCGTATCGGCCCGGTATTTACTAGCCATGGGTCCTTCTGTATACAATAAGAGGTTTGCTCAGCATCACAGCGACTCTTACGGCTGCAGTGACCCAGCCAGCGTGCCCTCTACCCTGGCGCCGTGACCCAGCCAGCGGTGACCCAGCCAGCGTGCCCTCTACCCTGGCGCCTTGGCTTCGACAACAGTGCCCTCTACCCTGGCGCCTTGGCTTCGACAACAGTTGGCTTCGTGACCCAGCCAGCGTGCCCTCTACCCTGGCGCCTTGTGACCCAGCCAGCGTGCCCTCTACCCTGGCGCCTTGGCTTCGACAACAGGGCTTCGACAACAGGTGACCCAGCCAGCGTGCCCTCTACCCTGGCGCCTTGGCTTCGACAACAGGGTGACCCAGCCAGCGTGCCCTCTACCCTGGCGCCTTGGCTTCGACAACAGACAACAGCCATCGTAGATGATGCTCCATGTCTCCTCCTGTGATCCTTTACTACAGCGGCTTCAAGTCCTGTTCACGCACAACTCTATTTCGAACCCGGCGACGAAGGTTCATGTTGAACTCTCGAGACGCCGGTTTGAGGAAATTTTAGGTGGACTGATCATCCAGTACCGTGACCCAGCCAGCGTGCCCTCTACCCTGGCGCCTTGGCTTCGACAACAGATCGCTAGGCCTATCAAAACAAGAATATGAAGTATGGGACGTAGTGCCATCGTACCGAGTCTTCAACTGAGCGACTGACCCTTTCAAACGAGCCATGGGGCTGGTAATGAACGAGAAGTGGGGCGGTTATCTTCAACACAGGGCGCGGACCCCTTTACATAATAACATCTAGAGGTTGGATTTGCGAAATAGCCCAGAGAGCTTGAACGGAGTTCAAAAGTTCGTGCTGAGGGCTCTCTCAAGGAGCCGTGTATGTTGTTCGTATTAACGTGTGCCGTCCGGACTTCGCATCGGGGCTTATGAAGACCATTCACACTGGAAACAAATATAACGTGTTCTTTGCCACTAGACTCGAGTCGCAGTCGACAAACGCGGGCATCCGCAAATACAGTTGCTTCACCGTCCAGTGGTCGCCAACCCGCCCGCGCACTCTTTTACGGCGAGCAGGTCGATTTAACG'"
            ],
            "application/vnd.google.colaboratory.intrinsic+json": {
              "type": "string"
            }
          },
          "metadata": {},
          "execution_count": 121
        }
      ]
    },
    {
      "cell_type": "markdown",
      "source": [
        "###Task 14"
      ],
      "metadata": {
        "id": "MSVzr8WCUsI3"
      }
    },
    {
      "cell_type": "code",
      "source": [
        "from collections import defaultdict\n",
        "\n",
        "def build_graph(kmers):\n",
        "  graph = defaultdict(list)\n",
        "  for kmer in kmers:\n",
        "    graph[kmer[:-1]].append(kmer[1:])\n",
        "  return graph\n",
        "\n",
        "def find_max_line(graph, start, in_degree, out_degree):\n",
        "  path = [start]\n",
        "  next = graph[start][0]\n",
        "  while in_degree[next] == 1 and out_degree[next] == 1:\n",
        "    if path[0] == path[-1]:\n",
        "      break\n",
        "    graph[start].remove(next)\n",
        "    path.append(next)\n",
        "    start = next\n",
        "    next = graph[next][0]\n",
        "  graph[start].remove(next)\n",
        "  path.append(next)\n",
        "  return path\n",
        "\n",
        "def find_contig_paths(graph):\n",
        "  paths = []\n",
        "  in_degree, out_degree = find_degrees(graph)\n",
        "  for v in graph:\n",
        "    if (in_degree[v] != 1 or out_degree[v] != 1) and out_degree[v] > 0:\n",
        "      while(len(graph[v]) > 0):\n",
        "        paths.append(find_max_line(graph, v, in_degree, out_degree))\n",
        "  for v in graph:\n",
        "    if in_degree[v] == 1 and out_degree[v] == 1 and len(graph[v]) > 0:\n",
        "      paths.append(find_max_line(graph, v, in_degree, out_degree))\n",
        "  return paths\n",
        "\n",
        "def find_degrees(graph):\n",
        "  in_count = defaultdict(int)\n",
        "  out_count = defaultdict(int)\n",
        "  for v in graph:\n",
        "    in_count[v] += 0\n",
        "    out_count[v] += len(graph[v])\n",
        "    for u in graph[v]:\n",
        "      out_count[u] += 0\n",
        "      in_count[u] += 1\n",
        "  return in_count, out_count\n",
        "\n",
        "def solve(kmers):\n",
        "  graph = build_graph(kmers)\n",
        "  return find_contig_paths(graph)"
      ],
      "metadata": {
        "id": "pRJpycQuUuKu"
      },
      "execution_count": null,
      "outputs": []
    },
    {
      "cell_type": "code",
      "source": [
        "with open(\"/content/rosalind_ba3k (1).txt\", \"r\") as f:\n",
        "    kmers = [line.strip() for line in f]"
      ],
      "metadata": {
        "id": "2EUGLxq4NVdL"
      },
      "execution_count": null,
      "outputs": []
    },
    {
      "cell_type": "code",
      "source": [
        "ans = solve(kmers)\n",
        "c_ans = ''\n",
        "for path in ans:\n",
        "  kmer = path[0]\n",
        "  for i in range(1, len(path)):\n",
        "    kmer += path[i][-1]\n",
        "  c_ans += kmer + \" \"\n",
        "c_ans"
      ],
      "metadata": {
        "colab": {
          "base_uri": "https://localhost:8080/",
          "height": 1000
        },
        "id": "JhIhFK9CQh2S",
        "outputId": "631e074c-503a-4baa-8ecf-6aefbb75c883"
      },
      "execution_count": null,
      "outputs": [
        {
          "output_type": "execute_result",
          "data": {
            "text/plain": [
              "'ATAAACGGCAGCTGAGAA ATAAACGGCAGCTGAGAA CACTCACGCAGTGTTACAGACCGAGGTGACCAAGG AAACGGCAGCTGAGAACA AAACGGCAGCTGAGAACA AGTGATCAAGTAACGGCC AGTGATCAAGTAACGGCC GCGTAATCGAGTGGGCAG GCGTAATCGAGTGGGCAG GGGGAAGACTTAGTAACT GGGGAAGACTTAGTAACT ATACCGAGAGGAGCTAGCTAATATGGCACTCAT AAAGATTTTTTCTAGCCC AAAGATTTTTTCTAGCCC GCAGGCTAATGGAGCGGC GCAGGCTAATGGAGCGGC TGGATACCGAGAGGAGCT TGGATACCGAGAGGAGCT CTCCGCCATGCTAGGAGG CTCCGCCATGCTAGGAGG TACGTGAAAGTTACGTGC TACGTGAAAGTTACGTGC ACTGGTACATTCTGACGC ACTGGTACATTCTGACGC ACCGAGGTGACCAAGGCCACTTTGCCGGAGCA TGCTACGACCGCAAATAC TGCTACGACCGCAAATAC GCCACTTTGCCGGAGCAC GCCACTTTGCCGGAGCAC CAGGCTAATGGAGCGGCT CAGGCTAATGGAGCGGCT TCGGCCCGCTTTCCAAGCCGCGGACCCTTGCGA ACTGAATCAACAGGTCTG ACTGAATCAACAGGTCTG TTCGAACATCATTCTCTC TTCGAACATCATTCTCTC TGAAAGTTACGTGCAGTGATCAAGTAACGG ATGGATCCTGTGGTTATT ATGGATCCTGTGGTTATT ATTAGAGACCAGGCTCTA ATTAGAGACCAGGCTCTA ATCACCTGGCTATGTTTACGGGGGTAGGTAATAG GATCCTGTGGTTATTGTTCGGCCCGCTTTCCA TCGAACATCATTCTCTCC TCGAACATCATTCTCTCC GTCTCGCGTTTGTTCTGC GTCTCGCGTTTGTTCTGC AGATGAGACGCATGCAGC AGATGAGACGCATGCAGC CGATCTGGGTTCGCATAT CGATCTGGGTTCGCATAT CAGATACAGGGCTATCAC CAGATACAGGGCTATCAC GATCTGGGTTCGCATATA GATCTGGGTTCGCATATA TATCCTTCGTGAGTGCCG TATCCTTCGTGAGTGCCG GTGGATGTGTCTTAAAAC GTGGATGTGTCTTAAAAC GCCCTTTGCACGTCAAATTTTGGCGTCGCATCA GACGGAGTGGACCAGGCG GACGGAGTGGACCAGGCG TCCTTCGTGAGTGCCGATCTGGGTTCGCAT CGTGAAAGTTACGTGCAG CGTGAAAGTTACGTGCAG AACGGCAGCTGAGAACAAGATCCTCAACCTT GTACCGGTCTTTCGGACA GTACCGGTCTTTCGGACA CTACGACCGCAAATACGG CTACGACCGCAAATACGG CTATGGATAAGAAGTAGA CTATGGATAAGAAGTAGA CCACTTTGCCGGAGCACA CCACTTTGCCGGAGCACA GATACCGAGAGGAGCTAG GATACCGAGAGGAGCTAG CCGATCTGGGTTCGCATA CCGATCTGGGTTCGCATA CTGGTACATTCTGACGCTGTACGTAGGCTATGCC TCACCAGTGCTGCTCCAA TCACCAGTGCTGCTCCAA GTTCGGCCCGCTTTCCAA GTTCGGCCCGCTTTCCAA CACTGAATCAACAGGTCT CACTGAATCAACAGGTCT AGACGTTGTTTACAGGCC AGACGTTGTTTACAGGCC AGAGACCAGGCTCTAGTG AGAGACCAGGCTCTAGTG AAAAGTAGAGCGAAGGGA AAAAGTAGAGCGAAGGGA CCCCTTCCTGGTGTGTCG CCCCTTCCTGGTGTGTCG AAAGTTCGATACCCCCGT AAAGTTCGATACCCCCGT CGTAATCGAGTGGGCAGACGTTGTTTACAGGC AGTGTCGGGACGCAGGGT AGTGTCGGGACGCAGGGT GTACGTAGGCTATGCCTA GTACGTAGGCTATGCCTA TGGATCCTGTGGTTATTG TGGATCCTGTGGTTATTG ACATATAACAGGGAACTT ACATATAACAGGGAACTT CGGGCACGGCATGACTGG CGGGCACGGCATGACTGG CTTTGCCGGAGCACACTCTGGCGCAAGACA CGTCTCGCGTTTGTTCTG CGTCTCGCGTTTGTTCTG GCACGACAATCTTATCTGGGGGAAGACTTAGTAAC TAAACGGCAGCTGAGAAC TAAACGGCAGCTGAGAAC TGCGATGTCACTGGTAAA TGCGATGTCACTGGTAAA TTAGAGACCAGGCTCTAG TTAGAGACCAGGCTCTAG TTTGGCGTCGCATCACGT TTTGGCGTCGCATCACGT AGTGTCGGGGGACTAGTG AGTGTCGGGGGACTAGTG TATCACCTGGCTATGTTT TATCACCTGGCTATGTTT GATGAGACGCATGCAGCA GATGAGACGCATGCAGCA GGGCGTCATAGCCAGTAC GGGCGTCATAGCCAGTAC GGGCACGGCATGACTGGC GGGCACGGCATGACTGGC CAAGATCCTCAACCTTAT CAAGATCCTCAACCTTAT AGTTCGATACCCCCGTTACTGGTACATTCTGACG GAGCCAGATTGAAGCACATATAACAGGGAACT GGGGTGCAATAACTGCCTACCCACGTACGTA ACGTCTCGCGTTTGTTCT ACGTCTCGCGTTTGTTCT GGGGGTAGGTAATAGGGGCGTCATAGCCAGT CTATCCTTCGTGAGTGCC CTATCCTTCGTGAGTGCC CATGCCCCAAATCTACGC CATGCCCCAAATCTACGC TGATCAAGTAACGGCCAAAAGTAGAGCGAAGGG GGGGTAATTCGAACCGTGGATGTGTCTTAAAA TTCGGCCCGCTTTCCAAG TTCGGCCCGCTTTCCAAG ACAGGGGTGCAATAACTG ACAGGGGTGCAATAACTG GGATGTGTCTTAAAACAG GGATGTGTCTTAAAACAG GGCGTCATAGCCAGTACG GGCGTCATAGCCAGTACG CCCGAATGAGTCCGGTAG CCCGAATGAGTCCGGTAG CACCAGTGCTGCTCCAAC CACCAGTGCTGCTCCAAC GGCCCTTTGCACGTCAAA GGCCCTTTGCACGTCAAA CGGGGTAATTCGAACCGT CGGGGTAATTCGAACCGT CAGCCACGGGTGTTTCAA CAGCCACGGGTGTTTCAA TCTCGCGTTTGTTCTGCA TCTCGCGTTTGTTCTGCA CGGAGCCAGATTGAAGCA CGGAGCCAGATTGAAGCA ACTAGTGTCGTTAATGGA ACTAGTGTCGTTAATGGA AAAGTAGAGCGAAGGGATGGATCCTGTGGTTAT CGAACATCATTCTCTCCC CGAACATCATTCTCTCCC GGATCCTGTGGTTATTGT GGATCCTGTGGTTATTGT CAGTGATCAAGTAACGGC CAGTGATCAAGTAACGGC AGGGGTGCAATAACTGCC AGGGGTGCAATAACTGCC CCAGATACAGGGCTATCA CCAGATACAGGGCTATCA ACGGAGTGGACCAGGCGT ACGGAGTGGACCAGGCGT GCACAGGGAACTAAGCTC GCACAGGGAACTAAGCTC CTTCAAGGGAGGTTTGCG CTTCAAGGGAGGTTTGCG GCTAATATGGCACTCATC GCTAATATGGCACTCATC CCCCGAATGAGTCCGGTA CCCCGAATGAGTCCGGTA CATATAACAGGGAACTTG CATATAACAGGGAACTTG GCGATGTCACTGGTAAATTATCACCTGGCTATGTT GGCGATGGTCACTAGTGC GGCGATGGTCACTAGTGC ATCTGGGTTCGCATATAA ATCTGGGTTCGCATATAA ATGAGACGCATGCAGCATGCCGTTCGCCTACGC GCCTACCCACGTACGTAC GCCTACCCACGTACGTAC TATAAACGGCAGCTGAGA TATAAACGGCAGCTGAGA AGCGTAATCGAGTGGGCA AGCGTAATCGAGTGGGCA GTGATCAAGTAACGGCCA GTGATCAAGTAACGGCCA GTCGGGGGACTAGTGCTACGACCGCAAATA GGAAAGATTTTTTCTAGC GGAAAGATTTTTTCTAGC CACAGGGAACTAAGCTCC CACAGGGAACTAAGCTCC GCCCAGATACAGGGCTAT GCCCAGATACAGGGCTAT ATGGAGCCAGACGTTTATTAGAGACCAGGCTCT ACAAGATCCTCAACCTTA ACAAGATCCTCAACCTTA GTGAAAGTTACGTGCAGT GTGAAAGTTACGTGCAGT GACCGAGGTGACCAAGGC GACCGAGGTGACCAAGGC CCGCGGACCCTTGCGATG CCGCGGACCCTTGCGATG ACTCTGGCGCAAGACAAC ACTCTGGCGCAAGACAAC TTCAAGGGAGGTTTGCGC TTCAAGGGAGGTTTGCGC GAAAGATTTTTTCTAGCC GAAAGATTTTTTCTAGCC CACTAGTGTCGTTAATGG CACTAGTGTCGTTAATGG GCTACGACCGCAAATACG GCTACGACCGCAAATACG CTCTGGCGCAAGACAACA CTCTGGCGCAAGACAACA CCAGTGCTGCTCCAACGTACCGGTCTTTCGGAC CGATTTAAGGAAGGTTAG CGATTTAAGGAAGGTTAG CATCCTTGACCAAAAATA CATCCTTGACCAAAAATA TTTTGGCGTCGCATCACG TTTTGGCGTCGCATCACG CCCAGATACAGGGCTATC CCCAGATACAGGGCTATC CGTCATAGCCAGTACGTGAAAGTTACGTG CGATGGTCACTAGTGCAC CGATGGTCACTAGTGCAC GATTTAAGGAAGGTTAGT GATTTAAGGAAGGTTAGT ATTTTGGCGTCGCATCAC ATTTTGGCGTCGCATCAC ATCCTTCGTGAGTGCCGA ATCCTTCGTGAGTGCCGA CCTACCCACGTACGTACA CCTACCCACGTACGTACA TCCGCCATGCTAGGAGGGAAAGATTTTTTCTAG ACAGGGAACTAAGCTCCG ACAGGGAACTAAGCTCCG TAGCATAGTTTAGGGCAA TAGCATAGTTTAGGGCAA TGCCGTTCGCCTACGCCG TGCCGTTCGCCTACGCCG CACTTTGCCGGAGCACAC CACTTTGCCGGAGCACAC TGGCGATGGTCACTAGTG TGGCGATGGTCACTAGTG GTGTCGGGACGCAGGGTT GTGTCGGGACGCAGGGTT ACGATGATTCACCTCGTT ACGATGATTCACCTCGTT GCGATGGTCACTAGTGCA GCGATGGTCACTAGTGCA GCTATGGATAAGAAGTAG GCTATGGATAAGAAGTAG ATATAACAGGGAACTTGC ATATAACAGGGAACTTGC GCCGCGGACCCTTGCGAT GCCGCGGACCCTTGCGAT GACGTTGTTTACAGGCCA GACGTTGTTTACAGGCCA GGAGTGGACCAGGCGTGTCCAATTCAGGGTTCTC AAGATCCTCAACCTTATACGATGATTCACCTCGT ACATGCCCCAAATCTACG ACATGCCCCAAATCTACG TACCGGTCTTTCGGACAGTGCGATGTCACTGGTAA GGAGCCAGATTGAAGCAC GGAGCCAGATTGAAGCAC CCGATTTAAGGAAGGTTA CCGATTTAAGGAAGGTTA GAACATCATTCTCTCCCCGAATGAGTCCGGT GGATACCGAGAGGAGCTA GGATACCGAGAGGAGCTA GATGGTCACTAGTGCACTGAATCAACAGGTC TGTCGGGGGACTAGTGCT TGTCGGGGGACTAGTGCT CGCGGACCCTTGCGATGCTATGGATAAGAAGTA AGATACAGGGCTATCACCAGTGCTGCTCCA GAGACCAGGCTCTAGTGTCGGGGGACTAGT CTAATATGGCACTCATCTATCCTTCGTGAGTGC GCGGGCACGGCATGACTG GCGGGCACGGCATGACTG CTCGCGTTTGTTCTGCATCCTTGACCAAAAAT TGCAGCCACGGGTGTTTC TGCAGCCACGGGTGTTTC TGTACGTAGGCTATGCCT TGTACGTAGGCTATGCCT CTACCCACGTACGTACAGATGAGACGCATGCAG TACGTAGGCTATGCCTAGGCCCTTTGCACGTCAA ACGTTGTTTACAGGCCAC ACGTTGTTTACAGGCCAC GGGGCGTCATAGCCAGTA GGGGCGTCATAGCCAGTA CTGAATCAACAGGTCTGGATACCGAGAGGAGC CAGGGGTGCAATAACTGC CAGGGGTGCAATAACTGC GGGAAGACTTAGTAACTGACACTCACGCAGTGTTA AGGCTAATGGAGCGGCTCTCCGCCATGCTAGGAG ATCCTTGACCAAAAATAATAGCATAGTTTAGGGCA TAGAGACCAGGCTCTAGT TAGAGACCAGGCTCTAGT ATGCCGTTCGCCTACGCC ATGCCGTTCGCCTACGCC GGCACGACAATCTTATCT GGCACGACAATCTTATCT ACGACCGCAAATACGGGCACGACAATCTTATC GCGGGGTAATTCGAACCG GCGGGGTAATTCGAACCG AAGATTTTTTCTAGCCCAGATACAGGGCTA ACGGGGGTAGGTAATAGG ACGGGGGTAGGTAATAGG ATGCCCCAAATCTACGCGGGCACGGCATGACT TTGGCGTCGCATCACGTCTCGCGTTTGTTC TATAACAGGGAACTTGCCCCTTCCTGGTGTGTC CGGGGGTAGGTAATAGGG CGGGGGTAGGTAATAGGG AAGTTCGATACCCCCGTT AAGTTCGATACCCCCGTT CGATGATTCACCTCGTTGCAGCCACGGGTGTTT AACAGGGGTGCAATAACT AACAGGGGTGCAATAACT TAGTGTCGTTAATGGACGGAGTGGACCAGGC TCCGATTTAAGGAAGGTT TCCGATTTAAGGAAGGTT ACTTTGCCGGAGCACACT ACTTTGCCGGAGCACACT CGTTGTTTACAGGCCACTAGTGTCGTTAATG GTTCGAACATCATTCTCT GTTCGAACATCATTCTCT GCGTCATAGCCAGTACGT GCGTCATAGCCAGTACGT ACGTGAAAGTTACGTGCA ACGTGAAAGTTACGTGCA ATTTAAGGAAGGTTAGTGTCGGGACGCAGGG GATGTGTCTTAAAACAGCGTAATCGAGTGGGC ACCAGTGCTGCTCCAACG ACCAGTGCTGCTCCAACG GTGTCGGGGGACTAGTGC GTGTCGGGGGACTAGTGC CCGAATGAGTCCGGTAGCGGGGTAATTCGAACC TCAAGGGAGGTTTGCGCGGAGCCAGATTGAAGC GCAGCCACGGGTGTTTCA GCAGCCACGGGTGTTTCA TACGACCGCAAATACGGG TACGACCGCAAATACGGG CTAGTGTCGTTAATGGAC CTAGTGTCGTTAATGGAC TATGGATAAGAAGTAGACATGCCCCAAATCTAC TCTGGCGCAAGACAACAGGGGTGCAATAAC CGGAGTGGACCAGGCGTG CGGAGTGGACCAGGCGTG TGGATGTGTCTTAAAACA TGGATGTGTCTTAAAACA GGCACGGCATGACTGGCGATGGTCACTAGT ACACTCACGCAGTGTTAC ACACTCACGCAGTGTTAC CACTCTGGCGCAAGACAA CACTCTGGCGCAAGACAA TGTCGGGACGCAGGGTTCGAACATCATTCTC CAGGGAACTAAGCTCCGATTTAAGGAAGGT GCCGTTCGCCTACGCCGCAGGCTAATGGAGCGG AGCCACGGGTGTTTCAAAGTTCGATACCCCCG CCCTTCCTGGTGTGTCGCACAGGGAACTAAGCT AGCATAGTTTAGGGCAACTTCAAGGGAGGTTTGC TCTGGGTTCGCATATAAACGGCAGCTGAG '"
            ],
            "application/vnd.google.colaboratory.intrinsic+json": {
              "type": "string"
            }
          },
          "metadata": {},
          "execution_count": 202
        }
      ]
    },
    {
      "cell_type": "markdown",
      "source": [
        "###Task 15"
      ],
      "metadata": {
        "id": "UC9I2AEUkeut"
      }
    },
    {
      "cell_type": "markdown",
      "source": [
        "решается абсолютно так же как и 13"
      ],
      "metadata": {
        "id": "r3gapjYsqUwm"
      }
    },
    {
      "cell_type": "markdown",
      "source": [
        "###Task 16"
      ],
      "metadata": {
        "id": "MhBehH2FWrf3"
      }
    },
    {
      "cell_type": "code",
      "source": [
        "from Bio.Seq import Seq\n",
        "\n",
        "codontab = {\"UUU\":\"F\", \"UUC\":\"F\", \"UUA\":\"L\", \"UUG\":\"L\",\n",
        "       \"UCU\":\"S\", \"UCC\":\"s\", \"UCA\":\"S\", \"UCG\":\"S\",\n",
        "       \"UAU\":\"Y\", \"UAC\":\"Y\", \"UAA\":\"STOP\", \"UAG\":\"STOP\",\n",
        "       \"UGU\":\"C\", \"UGC\":\"C\", \"UGA\":\"STOP\", \"UGG\":\"W\",\n",
        "       \"CUU\":\"L\", \"CUC\":\"L\", \"CUA\":\"L\", \"CUG\":\"L\",\n",
        "       \"CCU\":\"P\", \"CCC\":\"P\", \"CCA\":\"P\", \"CCG\":\"P\",\n",
        "       \"CAU\":\"H\", \"CAC\":\"H\", \"CAA\":\"Q\", \"CAG\":\"Q\",\n",
        "       \"CGU\":\"R\", \"CGC\":\"R\", \"CGA\":\"R\", \"CGG\":\"R\",\n",
        "       \"AUU\":\"I\", \"AUC\":\"I\", \"AUA\":\"I\", \"AUG\":\"M\",\n",
        "       \"ACU\":\"T\", \"ACC\":\"T\", \"ACA\":\"T\", \"ACG\":\"T\",\n",
        "       \"AAU\":\"N\", \"AAC\":\"N\", \"AAA\":\"K\", \"AAG\":\"K\",\n",
        "       \"AGU\":\"S\", \"AGC\":\"S\", \"AGA\":\"R\", \"AGG\":\"R\",\n",
        "       \"GUU\":\"V\", \"GUC\":\"V\", \"GUA\":\"V\", \"GUG\":\"V\",\n",
        "       \"GCU\":\"A\", \"GCC\":\"A\", \"GCA\":\"A\", \"GCG\":\"A\",\n",
        "       \"GAU\":\"D\", \"GAC\":\"D\", \"GAA\":\"E\", \"GAG\":\"E\",\n",
        "       \"GGU\":\"G\", \"GGC\":\"G\", \"GGA\":\"G\", \"GGG\":\"G\",}\n",
        "\n",
        "def dna_to_peptide(dna):\n",
        "  dna = [dna[i:i+3] for i in range(0, 3 * (len(dna) // 3), 3)]\n",
        "  peptides = [codontab[codon] for codon in dna]\n",
        "  return ''.join(peptides)\n",
        "\n",
        "def solve(dna, codon):\n",
        "  ans = []\n",
        "  for i in range(len(dna) - len(codon) * 3):\n",
        "    sub_dna = dna[i:i+len(codon)*3]\n",
        "    seq_sub_dna = Seq(sub_dna)\n",
        "    rna = str(seq_sub_dna.transcribe())\n",
        "    reverse_complement_rna = str(seq_sub_dna.reverse_complement().transcribe())\n",
        "    if dna_to_peptide(rna) == codon:\n",
        "      ans.append(sub_dna)\n",
        "    if dna_to_peptide(reverse_complement_rna) == codon:\n",
        "      ans.append(sub_dna)\n",
        "  return ans"
      ],
      "metadata": {
        "id": "9FCYwgz7DQNg"
      },
      "execution_count": null,
      "outputs": []
    },
    {
      "cell_type": "code",
      "source": [
        "dna = 'ATGGCCATGGCCCCCAGAACTGAGATCAATAGTACCCGTATTAACGGGTGA'\n",
        "codon = 'MA'\n",
        "# ATGGCC\n",
        "# GGCCAT\n",
        "# ATGGCC"
      ],
      "metadata": {
        "id": "tRr99EzrGWOa"
      },
      "execution_count": null,
      "outputs": []
    },
    {
      "cell_type": "code",
      "source": [
        "solve(dna, codon)"
      ],
      "metadata": {
        "colab": {
          "base_uri": "https://localhost:8080/"
        },
        "id": "uUv_9YYkGh8Y",
        "outputId": "8ee04c49-4e83-422a-a7de-f58406fe0426"
      },
      "execution_count": null,
      "outputs": [
        {
          "output_type": "execute_result",
          "data": {
            "text/plain": [
              "['ATGGCC', 'GGCCAT', 'ATGGCC']"
            ]
          },
          "metadata": {},
          "execution_count": 98
        }
      ]
    },
    {
      "cell_type": "code",
      "source": [
        "with open(\"/content/rosalind_ba4b.txt\", \"r\") as f:\n",
        "    dna, codon = [line.strip() for line in f]"
      ],
      "metadata": {
        "id": "pEmGdJwdt_lG"
      },
      "execution_count": null,
      "outputs": []
    },
    {
      "cell_type": "code",
      "source": [
        "ans = solve(dna, codon)\n",
        "for subdna in ans:\n",
        "  print(subdna)"
      ],
      "metadata": {
        "colab": {
          "base_uri": "https://localhost:8080/"
        },
        "id": "81E1-xP6uE3w",
        "outputId": "b47e6b6e-4ba5-4579-bbb9-1cb252873d66"
      },
      "execution_count": null,
      "outputs": [
        {
          "output_type": "stream",
          "name": "stdout",
          "text": [
            "TTTAATAAGAGACACGCGCACATGCGAGGC\n",
            "TTCAACAAGAGGCACGCACATATGCGAGGC\n",
            "TTTAATAAACGACATGCCCACATGCGAGGA\n",
            "TTCAACAAGCGCCACGCACATATGCGCGGA\n",
            "TTCAATAAACGTCATGCACACATGCGAGGG\n",
            "ACCCCTCATATGCGCATGCCTTTTATTGAA\n",
            "ACCCCGCATGTGTGCATGTCTCTTATTAAA\n",
            "CCCGCGCATATGTGCGTGCCTTTTATTGAA\n",
            "TTTAATAAGCGCCACGCTCATATGCGGGGT\n",
            "CCCACGCATGTGCGCATGCCGTTTGTTGAA\n",
            "TTTAACAAGAGACATGCGCACATGCGCGGG\n",
            "TTTAACAAACGACACGCGCACATGAGAGGA\n",
            "ACCTCGCATATGAGCGTGCCGCTTGTTGAA\n",
            "TCCCCGCATATGTGCATGCCTTTTGTTGAA\n",
            "TTTAACAAAAGGCACGCGCACATGCGAGGT\n",
            "TCCACGCATGTGCGCGTGCCGCTTGTTAAA\n",
            "CCCTCGCATATGGGCATGCCGTTTATTAAA\n",
            "TTCAATAAACGGCATGCCCATATGAGAGGG\n",
            "TTCAACAAACGACACGCCCATATGCGCGGA\n",
            "TTTAATAAACGCCATGCGCACATGAGAGGA\n"
          ]
        }
      ]
    },
    {
      "cell_type": "markdown",
      "source": [
        "###Task 17"
      ],
      "metadata": {
        "id": "ed44PBxCXwIj"
      }
    },
    {
      "cell_type": "code",
      "source": [
        "masses = [\n",
        " 57,\n",
        " 71,\n",
        " 87,\n",
        " 97,\n",
        " 99,\n",
        " 101,\n",
        " 103,\n",
        " 113,\n",
        " 114,\n",
        " 115,\n",
        " 128,\n",
        " 129,\n",
        " 131,\n",
        " 137,\n",
        " 147,\n",
        " 156,\n",
        " 163,\n",
        " 186\n",
        "]\n",
        "\n",
        "\n",
        "import numpy as np\n",
        "\n",
        "def solve(n):\n",
        "  dp = np.zeros(n + 1, dtype=int)\n",
        "  dp[0] = 1\n",
        "  for i in range(len(dp)):\n",
        "    for mass in masses:\n",
        "      if i - mass < 0:\n",
        "        continue\n",
        "      dp[i] += dp[i - mass]\n",
        "  return dp[n]"
      ],
      "metadata": {
        "id": "Ny1pIAQNkKlx"
      },
      "execution_count": null,
      "outputs": []
    },
    {
      "cell_type": "code",
      "source": [
        "solve(1355)"
      ],
      "metadata": {
        "colab": {
          "base_uri": "https://localhost:8080/"
        },
        "id": "O-G0lsFQbhQe",
        "outputId": "fd0a4869-84f4-435d-d298-b58d5faed4c5"
      },
      "execution_count": null,
      "outputs": [
        {
          "output_type": "execute_result",
          "data": {
            "text/plain": [
              "133790570254069"
            ]
          },
          "metadata": {},
          "execution_count": 23
        }
      ]
    },
    {
      "cell_type": "markdown",
      "source": [
        "###Task 18\n"
      ],
      "metadata": {
        "id": "wXIGHCs3jmNP"
      }
    },
    {
      "cell_type": "code",
      "source": [
        "import numpy as np\n",
        "\n",
        "masses = [\n",
        " 57,\n",
        " 71,\n",
        " 87,\n",
        " 97,\n",
        " 99,\n",
        " 101,\n",
        " 103,\n",
        " 113,\n",
        " 114,\n",
        " 115,\n",
        " 128,\n",
        " 129,\n",
        " 131,\n",
        " 137,\n",
        " 147,\n",
        " 156,\n",
        " 163,\n",
        " 186\n",
        "]\n",
        "\n",
        "def expand_peptides(peptides, spectrum, n):\n",
        "  new_peptides = []\n",
        "  for peptide in peptides:\n",
        "    for mass in spectrum:\n",
        "      if mass + peptide[0] <= n:\n",
        "        new_peptides.append([peptide[0] + mass, peptide[1] + [mass]])\n",
        "  return new_peptides\n",
        "\n",
        "def find_cyclic_spectrum(peptides):\n",
        "  prefix_mass = np.zeros(len(peptides) + 1)\n",
        "  prefix_mass[1:] = np.cumsum(peptides)\n",
        "  peptide_mass = prefix_mass[-1]\n",
        "  cyclic_spectrum = [0]\n",
        "  for i in range(len(peptides)):\n",
        "    for j in range(i + 1, len(peptides) + 1):\n",
        "      cyclic_spectrum.append(prefix_mass[j] - prefix_mass[i])\n",
        "      if i > 0 and j < len(peptides):\n",
        "        cyclic_spectrum.append(peptide_mass - (prefix_mass[j] - prefix_mass[i]))\n",
        "  return list(np.sort(cyclic_spectrum))\n",
        "\n",
        "\n",
        "def solve(spectrum):\n",
        "  parent = np.max(spectrum)\n",
        "  no_zero_spectrum = spectrum[1:]\n",
        "  peptides = [[0, []]]\n",
        "  peptide_masses = list(set(spectrum) & set(masses))\n",
        "  ans = set()\n",
        "  while len(peptides) > 0:\n",
        "    peptides = expand_peptides(peptides, peptide_masses, parent)\n",
        "    bad_peptides = []\n",
        "    for peptide in peptides:\n",
        "      if peptide[0] == parent:\n",
        "        if find_cyclic_spectrum(peptide[1]) == spectrum:\n",
        "          bad_peptides.append(peptide)\n",
        "          ans.add(tuple(peptide[1]))\n",
        "    for peptide in bad_peptides:\n",
        "      peptides.remove(peptide)\n",
        "  return list(ans)"
      ],
      "metadata": {
        "id": "GE9jigwLjoqp"
      },
      "execution_count": null,
      "outputs": []
    },
    {
      "cell_type": "code",
      "source": [
        "spectrum = [0, 113, 128, 186, 241, 299, 314, 427]\n",
        "solve(spectrum)"
      ],
      "metadata": {
        "colab": {
          "base_uri": "https://localhost:8080/"
        },
        "id": "znVAEhHrmGJb",
        "outputId": "ed94a31e-a8bc-4778-eb74-94cce2c7e211"
      },
      "execution_count": null,
      "outputs": [
        {
          "output_type": "execute_result",
          "data": {
            "text/plain": [
              "[(113, 128, 186),\n",
              " (113, 186, 128),\n",
              " (186, 113, 128),\n",
              " (128, 186, 113),\n",
              " (186, 128, 113),\n",
              " (128, 113, 186)]"
            ]
          },
          "metadata": {},
          "execution_count": 12
        }
      ]
    },
    {
      "cell_type": "code",
      "source": [
        "with open(\"/content/rosalind_ba4e (2).txt\", \"r\") as f:\n",
        "    spectrum = [list(map(int, line.strip().split(' '))) for line in f][0]"
      ],
      "metadata": {
        "id": "wpXFlXUpwQB3"
      },
      "execution_count": null,
      "outputs": []
    },
    {
      "cell_type": "code",
      "source": [
        "ans = solve(spectrum)\n",
        "ans_str = ''\n",
        "for peptide_line in ans:\n",
        "  ans_str += \"-\".join([str(mass) for mass in peptide_line]) + ' '\n",
        "ans_str"
      ],
      "metadata": {
        "colab": {
          "base_uri": "https://localhost:8080/",
          "height": 145
        },
        "id": "ASVhjWlhwpDx",
        "outputId": "c0334249-32dc-4649-d3f2-a20fd62e920c"
      },
      "execution_count": null,
      "outputs": [
        {
          "output_type": "execute_result",
          "data": {
            "text/plain": [
              "'97-156-128-97-128-131-137-131-147 131-137-131-128-97-128-156-97-147 131-137-131-147-97-156-128-97-128 137-131-128-97-128-156-97-147-131 97-128-131-137-131-147-97-156-128 128-97-128-131-137-131-147-97-156 137-131-147-97-156-128-97-128-131 128-131-137-131-147-97-156-128-97 147-97-156-128-97-128-131-137-131 156-97-147-131-137-131-128-97-128 147-131-137-131-128-97-128-156-97 97-147-131-137-131-128-97-128-156 131-128-97-128-156-97-147-131-137 128-156-97-147-131-137-131-128-97 156-128-97-128-131-137-131-147-97 128-97-128-156-97-147-131-137-131 97-128-156-97-147-131-137-131-128 131-147-97-156-128-97-128-131-137 '"
            ],
            "application/vnd.google.colaboratory.intrinsic+json": {
              "type": "string"
            }
          },
          "metadata": {},
          "execution_count": 15
        }
      ]
    },
    {
      "cell_type": "markdown",
      "source": [
        "###Task 19"
      ],
      "metadata": {
        "id": "96ImeWvY2a_3"
      }
    },
    {
      "cell_type": "code",
      "source": [
        "import numpy as np\n",
        "\n",
        "masses = [\n",
        " 57,\n",
        " 71,\n",
        " 87,\n",
        " 97,\n",
        " 99,\n",
        " 101,\n",
        " 103,\n",
        " 113,\n",
        " 114,\n",
        " 115,\n",
        " 128,\n",
        " 129,\n",
        " 131,\n",
        " 137,\n",
        " 147,\n",
        " 156,\n",
        " 163,\n",
        " 186\n",
        "]\n",
        "\n",
        "def score(peptide, spectrum):\n",
        "  cyclic_spectrum = find_cyclic_spectrum(peptide[1])\n",
        "  return sum(el in cyclic_spectrum for el in spectrum)\n",
        "\n",
        "def find_cyclic_spectrum(peptides):\n",
        "  prefix_mass = np.zeros(len(peptides) + 1)\n",
        "  prefix_mass[1:] = np.cumsum(peptides)\n",
        "  peptide_mass = prefix_mass[-1]\n",
        "  cyclic_spectrum = [0]\n",
        "  for i in range(len(peptides)):\n",
        "    for j in range(i + 1, len(peptides) + 1):\n",
        "      cyclic_spectrum.append(prefix_mass[j] - prefix_mass[i])\n",
        "      if i > 0 and j < len(peptides):\n",
        "        cyclic_spectrum.append(peptide_mass - (prefix_mass[j] - prefix_mass[i]))\n",
        "  return list(np.sort(cyclic_spectrum))\n",
        "\n",
        "def trim(leaderboard, spectrum, N):\n",
        "    scores = [(peptide, score(peptide, spectrum)) for peptide in leaderboard]\n",
        "    sorted_indices = sorted(range(len(scores)), key=lambda i: scores[i][1], reverse=True)\n",
        "    new_leaderboard = []\n",
        "    for i in range(min(N, len(sorted_indices))):\n",
        "        idx = sorted_indices[i]\n",
        "        if i < N or scores[sorted_indices[i]][1] == scores[sorted_indices[N-1]][1]:\n",
        "            new_leaderboard.append(leaderboard[idx])\n",
        "    return new_leaderboard\n",
        "\n",
        "def expand_peptides(peptides):\n",
        "    new_peptides = []\n",
        "    for peptide in peptides:\n",
        "        for mass in masses:\n",
        "            new_peptides.append([peptide[0] + mass, peptide[1] + [mass]])\n",
        "    return new_peptides\n",
        "\n",
        "def solve(spectrum, N):\n",
        "    parent_mass = max(spectrum)\n",
        "    leaderboard = [[0, []]]\n",
        "    leader_peptide = [0, []]\n",
        "    while leaderboard:\n",
        "        expanded_peptides = expand_peptides(leaderboard)\n",
        "        leaderboard = []\n",
        "        for peptide in expanded_peptides:\n",
        "            if peptide[0] == parent_mass:\n",
        "                if score(peptide, spectrum) > score(leader_peptide, spectrum):\n",
        "                    leader_peptide = peptide\n",
        "            elif peptide[0] < parent_mass:\n",
        "                leaderboard.append(peptide)\n",
        "        leaderboard = trim(leaderboard, spectrum, N)\n",
        "    return leader_peptide[1]"
      ],
      "metadata": {
        "id": "q30asXSj5QeS"
      },
      "execution_count": null,
      "outputs": []
    },
    {
      "cell_type": "code",
      "source": [
        "N = 10\n",
        "spectrum = [0, 71, 113, 129, 147, 200, 218, 260, 313, 331, 347, 389, 460]\n",
        "solve(spectrum, N)"
      ],
      "metadata": {
        "colab": {
          "base_uri": "https://localhost:8080/"
        },
        "id": "uZQHYkc17SVK",
        "outputId": "69a7887d-d15c-4946-91ed-42e452646ac0"
      },
      "execution_count": null,
      "outputs": [
        {
          "output_type": "execute_result",
          "data": {
            "text/plain": [
              "[71, 147, 113, 129]"
            ]
          },
          "metadata": {},
          "execution_count": 12
        }
      ]
    },
    {
      "cell_type": "code",
      "source": [
        "with open(\"/content/rosalind_ba4g.txt\", \"r\") as f:\n",
        "    N = int(f.readline())\n",
        "    spectrum = [list(map(int, line.strip().split(' '))) for line in f][0]"
      ],
      "metadata": {
        "id": "RzL_h-ge_Z6O"
      },
      "execution_count": null,
      "outputs": []
    },
    {
      "cell_type": "code",
      "source": [
        "ans = solve(spectrum, N)\n",
        "\"-\".join([str(mass) for mass in ans])"
      ],
      "metadata": {
        "colab": {
          "base_uri": "https://localhost:8080/",
          "height": 36
        },
        "id": "9uPIr8IF8k9S",
        "outputId": "c65d0c7b-db88-459a-fb98-9642b9ec497a"
      },
      "execution_count": null,
      "outputs": [
        {
          "output_type": "execute_result",
          "data": {
            "text/plain": [
              "'97-156-156-186-128-101-186-147-103-71-137-186'"
            ],
            "application/vnd.google.colaboratory.intrinsic+json": {
              "type": "string"
            }
          },
          "metadata": {},
          "execution_count": 22
        }
      ]
    },
    {
      "cell_type": "markdown",
      "source": [
        "###Task 20"
      ],
      "metadata": {
        "id": "425hZc1W9kYQ"
      }
    },
    {
      "cell_type": "code",
      "source": [
        "import numpy as np\n",
        "from collections import Counter\n",
        "\n",
        "def score(peptide, spectrum):\n",
        "    cyclic_spectrum = find_cyclic_spectrum(peptide[1])\n",
        "    return sum(min(cyclic_spectrum.count(m), spectrum.count(m)) for m in set(cyclic_spectrum) & set(spectrum))\n",
        "\n",
        "def find_cyclic_spectrum(peptides):\n",
        "  prefix_mass = np.zeros(len(peptides) + 1)\n",
        "  prefix_mass[1:] = np.cumsum(peptides)\n",
        "  peptide_mass = prefix_mass[-1]\n",
        "  cyclic_spectrum = [0]\n",
        "  for i in range(len(peptides)):\n",
        "    for j in range(i + 1, len(peptides) + 1):\n",
        "      cyclic_spectrum.append(prefix_mass[j] - prefix_mass[i])\n",
        "      if i > 0 and j < len(peptides):\n",
        "        cyclic_spectrum.append(peptide_mass - (prefix_mass[j] - prefix_mass[i]))\n",
        "  return list(np.sort(cyclic_spectrum))\n",
        "\n",
        "def trim(leaderboard, spectrum, N):\n",
        "    scores = [(peptide, score(peptide, spectrum)) for peptide in leaderboard]\n",
        "    sorted_indices = sorted(range(len(scores)), key=lambda i: scores[i][1], reverse=True)\n",
        "    new_leaderboard = []\n",
        "    for i in range(min(N, len(sorted_indices))):\n",
        "        idx = sorted_indices[i]\n",
        "        if i < N or scores[sorted_indices[i]][1] == scores[sorted_indices[N-1]][1]:\n",
        "            new_leaderboard.append(leaderboard[idx])\n",
        "    return new_leaderboard\n",
        "\n",
        "def expand_peptides(peptides, masses):\n",
        "    new_peptides = []\n",
        "    for peptide in peptides:\n",
        "        for mass in masses:\n",
        "            new_peptides.append([peptide[0] + mass, peptide[1] + [mass]])\n",
        "    return new_peptides\n",
        "\n",
        "def leaderboard_sequencing(spectrum, N, masses):\n",
        "    parent_mass = max(spectrum)\n",
        "    leaderboard = [[0, []]]\n",
        "    leader_peptide = [0, []]\n",
        "    while leaderboard:\n",
        "        expanded_peptides = expand_peptides(leaderboard, masses)\n",
        "        leaderboard = []\n",
        "        for peptide in expanded_peptides:\n",
        "            if peptide[0] == parent_mass:\n",
        "                if score(peptide, spectrum) > score(leader_peptide, spectrum):\n",
        "                    leader_peptide = peptide\n",
        "            elif peptide[0] < parent_mass:\n",
        "                leaderboard.append(peptide)\n",
        "        leaderboard = trim(leaderboard, spectrum, N)\n",
        "    return leader_peptide[1]\n",
        "\n",
        "def convolution(spectrum):\n",
        "    result = []\n",
        "    for i in spectrum:\n",
        "        for j in spectrum:\n",
        "            if i - j > 0:\n",
        "                result.append(i - j)\n",
        "    return result\n",
        "\n",
        "def top_masses_from_convolution(convolution, M):\n",
        "    count = Counter(convolution)\n",
        "    filtered_masses = {mass: freq for mass, freq in count.items() if 57 <= mass <= 200}\n",
        "    top_M = dict(sorted(filtered_masses.items(), key=lambda item: item[1], reverse=True)[:M])\n",
        "    return list(top_M.keys())\n",
        "\n",
        "def solve(M, N, spectrum):\n",
        "    spectrum_convolution = convolution(spectrum)\n",
        "    masses = top_masses_from_convolution(spectrum_convolution, M)\n",
        "    leader_peptide = leaderboard_sequencing(spectrum, N, masses)\n",
        "    return leader_peptide"
      ],
      "metadata": {
        "id": "6Ev5Utsw9nu4"
      },
      "execution_count": null,
      "outputs": []
    },
    {
      "cell_type": "code",
      "source": [
        "with open(\"/content/rosalind_ba4i (3).txt\", \"r\") as f:\n",
        "    M = int(f.readline())\n",
        "    N = int(f.readline())\n",
        "    spectrum = [list(map(int, line.strip().split(' '))) for line in f][0]"
      ],
      "metadata": {
        "id": "U4Qe1eG1hj2C"
      },
      "execution_count": null,
      "outputs": []
    },
    {
      "cell_type": "code",
      "source": [
        "ans = solve(M, N, spectrum)\n",
        "\"-\".join([str(mass) for mass in ans])"
      ],
      "metadata": {
        "colab": {
          "base_uri": "https://localhost:8080/",
          "height": 36
        },
        "id": "awxYWA6RhDzw",
        "outputId": "ca0a0486-2938-4e8a-ed1a-3f9b2b579071"
      },
      "execution_count": null,
      "outputs": [
        {
          "output_type": "execute_result",
          "data": {
            "text/plain": [
              "'97-147-128-71-128-131-103-101-131-129-114-113-87-113'"
            ],
            "application/vnd.google.colaboratory.intrinsic+json": {
              "type": "string"
            }
          },
          "metadata": {},
          "execution_count": 69
        }
      ]
    },
    {
      "cell_type": "markdown",
      "source": [
        "###Task 21"
      ],
      "metadata": {
        "id": "1KmdbdrXAn2J"
      }
    },
    {
      "cell_type": "code",
      "source": [
        "import numpy as np\n",
        "\n",
        "def solve(coins, change):\n",
        "    dp = np.ones((len(coins) + 1, change + 1)) * np.inf\n",
        "    dp[0, 0] = 0\n",
        "    for i, coin in enumerate(coins, 1):\n",
        "        for j in range(1, n + 1):\n",
        "            if coin == j:\n",
        "                dp[i][j] = 1\n",
        "            elif coin > j:\n",
        "                dp[i][j] = dp[i - 1][j]\n",
        "            else:\n",
        "                dp[i][j] = np.min([dp[i - 1][j], 1 + dp[i][j - coin]])\n",
        "    return dp[-1][-1]\n",
        "\n",
        "n = 18328\n",
        "coins = [1,3,5,6,12,13,22]\n",
        "\n",
        "ans = solve(coins, n)\n",
        "print(int(ans))"
      ],
      "metadata": {
        "id": "QFxRIO2GAvCf"
      },
      "execution_count": null,
      "outputs": []
    },
    {
      "cell_type": "markdown",
      "source": [
        "###Task 22"
      ],
      "metadata": {
        "id": "863dRUKiApp3"
      }
    },
    {
      "cell_type": "code",
      "source": [
        "import numpy as np\n",
        "\n",
        "def solve(n, m, down_edges, right_edges):\n",
        "  dp = np.zeros((n + 1, m + 1))\n",
        "  for i in range(0, n + 1):\n",
        "    for j in range(0, m + 1):\n",
        "      if i == 0 and j == 0:\n",
        "        continue\n",
        "      if i == 0:\n",
        "        dp[i, j] = dp[i, j - 1] + down_edges[i, j - 1]\n",
        "        continue\n",
        "      if j == 0:\n",
        "        dp[i, j] = dp[i - 1, j] + right_edges[i - 1, j]\n",
        "        continue\n",
        "      dp[i, j] = np.max([dp[i, j - 1] + down_edges[i, j - 1],\n",
        "                         dp[i - 1, j] + right_edges[i - 1, j]])\n",
        "  return dp[-1, -1]\n",
        "\n",
        "ans = solve(n, m, down_edges, right_edges)\n",
        "print(int(ans))"
      ],
      "metadata": {
        "id": "_7SIf1X2AvVH"
      },
      "execution_count": null,
      "outputs": []
    },
    {
      "cell_type": "markdown",
      "source": [
        "###Task 23"
      ],
      "metadata": {
        "id": "30WdNOXRAqRO"
      }
    },
    {
      "cell_type": "code",
      "source": [
        "from Bio.Align import substitution_matrices\n",
        "import numpy as np\n",
        "\n",
        "def global_alignment(seq1, seq2, gap_penalty):\n",
        "    blosum62 = substitution_matrices.load(\"BLOSUM62\")\n",
        "    m, n = len(seq1), len(seq2)\n",
        "    score_matrix = np.zeros((m+1, n+1), dtype=int)\n",
        "    for i in range(m+1):\n",
        "        score_matrix[i][0] = -i * gap_penalty\n",
        "    for j in range(n+1):\n",
        "        score_matrix[0][j] = -j * gap_penalty\n",
        "\n",
        "    for i in range(1, m+1):\n",
        "        for j in range(1, n+1):\n",
        "            match_score = blosum62.get((seq1[i-1], seq2[j-1]), blosum62.get((seq2[j-1], seq1[i-1]), -1))\n",
        "            score_matrix[i][j] = max(score_matrix[i-1][j-1] + match_score,\n",
        "                                     score_matrix[i-1][j] - gap_penalty,\n",
        "                                     score_matrix[i][j-1] - gap_penalty)\n",
        "    align1 = ''\n",
        "    align2 = ''\n",
        "    i, j = m, n\n",
        "    while i > 0 or j > 0:\n",
        "        if i > 0 and j > 0 and score_matrix[i][j] == score_matrix[i-1][j-1] + blosum62.get((seq1[i-1], seq2[j-1]), blosum62.get((seq2[j-1], seq1[i-1]), -1)):\n",
        "            align1 = seq1[i-1] + align1\n",
        "            align2 = seq2[j-1] + align2\n",
        "            i -= 1\n",
        "            j -= 1\n",
        "        elif i > 0 and score_matrix[i][j] == score_matrix[i-1][j] - gap_penalty:\n",
        "            align1 = seq1[i-1] + align1\n",
        "            align2 = '-' + align2\n",
        "            i -= 1\n",
        "        else:\n",
        "            align1 = '-' + align1\n",
        "            align2 = seq2[j-1] + align2\n",
        "            j -= 1\n",
        "    return score_matrix[m][n], align1, align2"
      ],
      "metadata": {
        "id": "sKIfkhdyAvpI"
      },
      "execution_count": null,
      "outputs": []
    },
    {
      "cell_type": "markdown",
      "source": [
        "###Task 24"
      ],
      "metadata": {
        "id": "3CEWtDwkAqnC"
      }
    },
    {
      "cell_type": "code",
      "source": [
        "from Bio.Align import substitution_matrices\n",
        "import numpy as np\n",
        "\n",
        "def local_alignment(seq1, seq2, gap_penalty):\n",
        "    pam250 = substitution_matrices.load(\"PAM250\")\n",
        "    m, n = len(seq1), len(seq2)\n",
        "    score_matrix = np.zeros((m+1, n+1), dtype=int)\n",
        "    max_score = 0\n",
        "    max_pos = (0, 0)\n",
        "    for i in range(1, m+1):\n",
        "        for j in range(1, n+1):\n",
        "            match_score = pam250.get((seq1[i-1], seq2[j-1]), pam250.get((seq2[j-1], seq1[i-1]), -1))\n",
        "            score = max(0,\n",
        "                        score_matrix[i-1][j-1] + match_score,\n",
        "                        score_matrix[i-1][j] - gap_penalty,\n",
        "                        score_matrix[i][j-1] - gap_penalty)\n",
        "            score_matrix[i][j] = score\n",
        "            if score > max_score:\n",
        "                max_score = score\n",
        "                max_pos = (i, j)\n",
        "    align1, align2 = '', ''\n",
        "    i, j = max_pos\n",
        "    while i > 0 and j > 0 and score_matrix[i][j] > 0:\n",
        "        if score_matrix[i][j] == score_matrix[i-1][j-1] + pam250.get((seq1[i-1], seq2[j-1]), pam250.get((seq2[j-1], seq1[i-1]), -1)):\n",
        "            align1 = seq1[i-1] + align1\n",
        "            align2 = seq2[j-1] + align2\n",
        "            i -= 1\n",
        "            j -= 1\n",
        "        elif score_matrix[i][j] == score_matrix[i-1][j] - gap_penalty:\n",
        "            align1 = seq1[i-1] + align1\n",
        "            align2 = '-' + align2\n",
        "            i -= 1\n",
        "        else:\n",
        "            align1 = '-' + align1\n",
        "            align2 = seq2[j-1] + align2\n",
        "            j -= 1\n",
        "    return max_score, align1, align2"
      ],
      "metadata": {
        "id": "lMrigd_1AwEG"
      },
      "execution_count": null,
      "outputs": []
    },
    {
      "cell_type": "markdown",
      "source": [
        "###Task 25"
      ],
      "metadata": {
        "id": "JvHvdfzJArBS"
      }
    },
    {
      "cell_type": "code",
      "source": [
        "def multiple_lcs_alignment(seq1, seq2, seq3):\n",
        "    len1, len2, len3 = len(seq1), len(seq2), len(seq3)\n",
        "    dp = [[[0 for _ in range(len3+1)] for _ in range(len2+1)] for _ in range(len1+1)]\n",
        "    for i in range(1, len1+1):\n",
        "        for j in range(1, len2+1):\n",
        "            for k in range(1, len3+1):\n",
        "                if seq1[i-1] == seq2[j-1] == seq3[k-1]:\n",
        "                    dp[i][j][k] = dp[i-1][j-1][k-1] + 1\n",
        "                else:\n",
        "                    dp[i][j][k] = max(dp[i-1][j][k], dp[i][j-1][k], dp[i][j][k-1], dp[i-1][j-1][k], dp[i-1][j][k-1], dp[i][j-1][k-1])\n",
        "    align1, align2, align3 = [], [], []\n",
        "    i, j, k = len1, len2, len3\n",
        "    while i > 0 or j > 0 or k > 0:\n",
        "        if i > 0 and j > 0 and k > 0 and seq1[i-1] == seq2[j-1] == seq3[k-1]:\n",
        "            align1.append(seq1[i-1])\n",
        "            align2.append(seq2[j-1])\n",
        "            align3.append(seq3[k-1])\n",
        "            i -= 1\n",
        "            j -= 1\n",
        "            k -= 1\n",
        "        elif i > 0 and j > 0 and dp[i][j][k] == dp[i-1][j-1][k]:\n",
        "            align1.append(seq1[i-1])\n",
        "            align2.append(seq2[j-1])\n",
        "            align3.append('-')\n",
        "            i -= 1\n",
        "            j -= 1\n",
        "        elif i > 0 and k > 0 and dp[i][j][k] == dp[i-1][j][k-1]:\n",
        "            align1.append(seq1[i-1])\n",
        "            align2.append('-')\n",
        "            align3.append(seq3[k-1])\n",
        "            i -= 1\n",
        "            k -= 1\n",
        "        elif j > 0 and k > 0 and dp[i][j][k] == dp[i][j-1][k-1]:\n",
        "            align1.append('-')\n",
        "            align2.append(seq2[j-1])\n",
        "            align3.append(seq3[k-1])\n",
        "            j -= 1\n",
        "            k -= 1\n",
        "        elif i > 0 and dp[i][j][k] == dp[i-1][j][k]:\n",
        "            align1.append(seq1[i-1])\n",
        "            align2.append('-')\n",
        "            align3.append('-')\n",
        "            i -= 1\n",
        "        elif j > 0 and dp[i][j][k] == dp[i][j-1][k]:\n",
        "            align1.append('-')\n",
        "            align2.append(seq2[j-1])\n",
        "            align3.append('-')\n",
        "            j -= 1\n",
        "        else:\n",
        "            align1.append('-')\n",
        "            align2.append('-')\n",
        "            align3.append(seq3[k-1])\n",
        "            k -= 1\n",
        "    align1.reverse()\n",
        "    align2.reverse()\n",
        "    align3.reverse()\n",
        "    return dp[len1][len2][len3], ''.join(align1), ''.join(align2), ''.join(align3)"
      ],
      "metadata": {
        "id": "kmd9JxL_Awhw"
      },
      "execution_count": null,
      "outputs": []
    },
    {
      "cell_type": "markdown",
      "source": [
        "###Task 26"
      ],
      "metadata": {
        "id": "v0KenEVXAlMN"
      }
    },
    {
      "cell_type": "code",
      "source": [
        "def solve(permutation):\n",
        "    def format_permutation(p):\n",
        "        return '(' + ' '.join(f\"+{i}\" if i > 0 else f\"{i}\" for i in p) + ')'\n",
        "\n",
        "    result = []\n",
        "    for i in range(len(permutation)):\n",
        "        if permutation[i] == i + 1:\n",
        "            continue\n",
        "\n",
        "        for j in range(i, len(permutation)):\n",
        "            if abs(permutation[j]) == i + 1:\n",
        "\n",
        "                permutation[i:j + 1] = [-x for x in permutation[i:j + 1][::-1]]\n",
        "                result.append(format_permutation(permutation))\n",
        "                break\n",
        "\n",
        "        if permutation[i] == -(i + 1):\n",
        "            permutation[i] = -permutation[i]\n",
        "            result.append(format_permutation(permutation))\n",
        "\n",
        "    return result\n"
      ],
      "metadata": {
        "id": "FRr0laRbAw6U"
      },
      "execution_count": null,
      "outputs": []
    },
    {
      "cell_type": "code",
      "source": [
        "with open(\"/content/rosalind_ba6a.txt\", \"r\") as f:\n",
        "    permutation = list(map(int, f.readline().strip()[1:-1].split(' ')))\n",
        "\n",
        "print(permutation)\n",
        "greedy_sorting_result = solve(permutation)\n",
        "for perm in greedy_sorting_result:\n",
        "  print(perm)"
      ],
      "metadata": {
        "id": "kADZkiqYGD5n"
      },
      "execution_count": null,
      "outputs": []
    },
    {
      "cell_type": "markdown",
      "source": [
        "###Task 27"
      ],
      "metadata": {
        "id": "d6iyRxW0GGmO"
      }
    },
    {
      "cell_type": "code",
      "source": [
        "def solve(permutation):\n",
        "    extended_permutation = [0] + permutation + [len(permutation) + 1]\n",
        "    breakpoints = 0\n",
        "    for i in range(len(extended_permutation) - 1):\n",
        "        if extended_permutation[i + 1] - extended_permutation[i] != 1:\n",
        "            breakpoints += 1\n",
        "\n",
        "    return breakpoints"
      ],
      "metadata": {
        "id": "ctadHfx4GJuO"
      },
      "execution_count": null,
      "outputs": []
    },
    {
      "cell_type": "code",
      "source": [
        "with open(\"/content/rosalind_ba6b.txt\", \"r\") as f:\n",
        "    permutation = list(map(int, f.readline().strip()[1:-1].split(' ')))\n",
        "\n",
        "res = solve(permutation)\n",
        "print(res)"
      ],
      "metadata": {
        "colab": {
          "base_uri": "https://localhost:8080/"
        },
        "id": "ExwHaOiWG9JQ",
        "outputId": "4c511dc4-7ff0-4581-ac32-dc900e7f64ce"
      },
      "execution_count": null,
      "outputs": [
        {
          "output_type": "stream",
          "name": "stdout",
          "text": [
            "96\n"
          ]
        }
      ]
    },
    {
      "cell_type": "markdown",
      "source": [
        "###Task 28"
      ],
      "metadata": {
        "id": "mxOFIqpOIRY2"
      }
    },
    {
      "cell_type": "code",
      "source": [
        "def add_edges_to_breakpoint_graph(seq, graph):\n",
        "    pairs = []\n",
        "    for v in seq:\n",
        "        v1, v2 = 2 * (abs(v) - 1), 2 * (abs(v) - 1) + 1\n",
        "        pairs.append((v1, v2) if v > 0 else (v2, v1))\n",
        "\n",
        "    for pair1, pair2 in zip(pairs, pairs[1:] + pairs[:1]):\n",
        "        graph.setdefault(pair1[1], set()).add(pair2[0])\n",
        "        graph.setdefault(pair2[0], set()).add(pair1[1])\n",
        "\n",
        "def get_circles_number(graph):\n",
        "    used = set()\n",
        "    circles_number = 0\n",
        "\n",
        "    for vertex in graph:\n",
        "        if vertex not in used:\n",
        "            circles_number += 1\n",
        "            stack = [vertex]\n",
        "            while stack:\n",
        "                v = stack.pop()\n",
        "                if v not in used:\n",
        "                    used.add(v)\n",
        "                    stack.extend(graph[v] - used)\n",
        "    return circles_number\n",
        "\n",
        "def solve(genome1, genome2):\n",
        "    graph = {}\n",
        "    for sample in genome1 + genome2:\n",
        "        add_edges_to_breakpoint_graph(sample, graph)\n",
        "\n",
        "    circles_count = get_circles_number(graph)\n",
        "    blocks_count = len(graph) // 2\n",
        "    return blocks_count - circles_count"
      ],
      "metadata": {
        "id": "nRIPd-23eKeu"
      },
      "execution_count": null,
      "outputs": []
    },
    {
      "cell_type": "code",
      "source": [
        "with open(\"/content/rosalind_ba6c (2).txt\", \"r\") as f:\n",
        "    chromosomes1 = f.readline().strip()[1:-1].split(')(')\n",
        "    chromosomes1 = [list(map(int, chromosome.split(' '))) for chromosome in chromosomes1]\n",
        "\n",
        "    chromosomes2 = f.readline().strip()[1:-1].split(')(')\n",
        "    chromosomes2 = [list(map(int, chromosome.split(' '))) for chromosome in chromosomes2]"
      ],
      "metadata": {
        "id": "GLKH5aslKDTJ"
      },
      "execution_count": null,
      "outputs": []
    },
    {
      "cell_type": "code",
      "source": [
        "solve(chromosomes2, chromosomes1)"
      ],
      "metadata": {
        "colab": {
          "base_uri": "https://localhost:8080/"
        },
        "id": "dlVN9mfhKoIv",
        "outputId": "f80a9394-fdd7-4fee-a492-0e82639e67c7"
      },
      "execution_count": null,
      "outputs": [
        {
          "output_type": "execute_result",
          "data": {
            "text/plain": [
              "13767"
            ]
          },
          "metadata": {},
          "execution_count": 42
        }
      ]
    },
    {
      "cell_type": "markdown",
      "source": [
        "###Task 29"
      ],
      "metadata": {
        "id": "KGaEvCC_gl10"
      }
    },
    {
      "cell_type": "code",
      "source": [
        "import re\n",
        "\n",
        "def add_sequence_edges(sequence, breakpoint_graph):\n",
        "    for i in range(len(sequence)):\n",
        "        vertex1 = 2 * abs(sequence[i]) - (1 if sequence[i] > 0 else 2)\n",
        "        vertex2 = 2 * abs(sequence[(i + 1) % len(sequence)]) - (2 if sequence[(i + 1) % len(sequence)] > 0 else 1)\n",
        "\n",
        "        breakpoint_graph.setdefault(vertex1, set()).add(vertex2)\n",
        "        breakpoint_graph.setdefault(vertex2, set()).add(vertex1)\n",
        "\n",
        "def apply_breakpoint_rearrangement(breakpoint_graph, edge_vertices):\n",
        "    assert len(edge_vertices) == 4\n",
        "    v1, v2, v3, v4 = edge_vertices\n",
        "\n",
        "    breakpoint_graph[v1].discard(v2)\n",
        "    breakpoint_graph[v2].discard(v1)\n",
        "    breakpoint_graph[v3].discard(v4)\n",
        "    breakpoint_graph[v4].discard(v3)\n",
        "\n",
        "    breakpoint_graph[v1].add(v4)\n",
        "    breakpoint_graph[v2].add(v3)\n",
        "    breakpoint_graph[v3].add(v2)\n",
        "    breakpoint_graph[v4].add(v1)\n",
        "\n",
        "def explore_genome_path(start_vertex, visited_vertices, genome_graph):\n",
        "    path = []\n",
        "    while True:\n",
        "        visited_vertices.add(start_vertex)\n",
        "        genome_index = start_vertex // 2 + 1\n",
        "\n",
        "        if start_vertex % 2 == 0:\n",
        "            visited_vertices.add(start_vertex + 1)\n",
        "            path.append(genome_index)\n",
        "            start_vertex += 1\n",
        "        else:\n",
        "            visited_vertices.add(start_vertex - 1)\n",
        "            path.append(-genome_index)\n",
        "            start_vertex -= 1\n",
        "\n",
        "        next_vertices = [n for n in genome_graph[start_vertex] if n not in visited_vertices]\n",
        "        if not next_vertices:\n",
        "            return start_vertex, path\n",
        "        else:\n",
        "            start_vertex = next_vertices[0]\n",
        "\n",
        "def identify_genome_paths(genome_structure):\n",
        "    visited = set()\n",
        "    genome_paths = []\n",
        "\n",
        "    while len(visited) != len(genome_structure):\n",
        "        unexplored_vertex = min(set(genome_structure.keys()) - visited)\n",
        "        while unexplored_vertex not in visited:\n",
        "            unexplored_vertex, path = explore_genome_path(unexplored_vertex, visited, genome_structure)\n",
        "            genome_paths.append(path)\n",
        "\n",
        "    return genome_paths\n",
        "\n",
        "def find_colored_paths(genome_graph):\n",
        "    marked_vertices = set()\n",
        "    paths = []\n",
        "\n",
        "    for vertex in genome_graph:\n",
        "        if vertex not in marked_vertices:\n",
        "            path = []\n",
        "            stack = [vertex]\n",
        "\n",
        "            while stack:\n",
        "                current_vertex = stack.pop()\n",
        "                if current_vertex not in marked_vertices:\n",
        "                    marked_vertices.add(current_vertex)\n",
        "                    path.append(current_vertex)\n",
        "                    stack.extend([neighbor for neighbor in genome_graph[current_vertex] if neighbor not in marked_vertices])\n",
        "\n",
        "            paths.append(path)\n",
        "\n",
        "    return paths\n",
        "\n",
        "def combine_genome_graphs(graph1, graph2):\n",
        "    combined_graph = {}\n",
        "    for vertex in set(graph1) | set(graph2):\n",
        "        combined_graph[vertex] = graph1.get(vertex, set()) | graph2.get(vertex, set())\n",
        "    return combined_graph\n",
        "\n",
        "def format_genome_graph(genome_graph):\n",
        "    genome_paths = identify_genome_paths(genome_graph)\n",
        "    return \"\".join(f\"({' '.join(f'+{x}' if x > 0 else str(x) for x in path)})\" for path in genome_paths)\n",
        "\n",
        "def find_edge_in_path(graph, paths):\n",
        "    for path in paths:\n",
        "        if len(path) > 2:\n",
        "            for v1, v2 in zip(path, path[1:] + [path[0]]):\n",
        "                if v2 in graph.get(v1, set()):\n",
        "                    return v1, v2\n",
        "    return None\n",
        "\n",
        "def solve(samples1, samples2):\n",
        "    graph_red, graph_blue = {}, {}\n",
        "\n",
        "    for genome in samples1 + samples2:\n",
        "        add_sequence_edges(genome, graph_red if genome in samples1 else graph_blue)\n",
        "\n",
        "    combined_graph, rearrangement_steps = combine_genome_graphs(graph_blue, graph_red), [format_genome_graph(graph_red)]\n",
        "    total_blocks, colored_paths = len(combined_graph) // 2, find_colored_paths(combined_graph)\n",
        "\n",
        "    while len(colored_paths) != total_blocks:\n",
        "        edge_start, edge_end = find_edge_in_path(graph_blue, colored_paths)\n",
        "        assert edge_start is not None and edge_end is not None\n",
        "\n",
        "        breakpoint1, breakpoint2 = list(graph_red[edge_start])[0], list(graph_red[edge_end])[0]\n",
        "        apply_breakpoint_rearrangement(graph_red, (breakpoint1, edge_start, edge_end, breakpoint2))\n",
        "\n",
        "        combined_graph = combine_genome_graphs(graph_blue, graph_red)\n",
        "        rearrangement_steps.append(format_genome_graph(graph_red))\n",
        "        colored_paths = find_colored_paths(combined_graph)\n",
        "\n",
        "    result = \"\\n\".join(rearrangement_steps)\n",
        "    print(result)"
      ],
      "metadata": {
        "id": "cyx3iqEC9UfL"
      },
      "execution_count": null,
      "outputs": []
    },
    {
      "cell_type": "code",
      "source": [
        "with open(\"/content/rosalind_ba6d (1).txt\", \"r\") as f:\n",
        "    chromosomes1 = f.readline().strip()[1:-1].split(')(')\n",
        "    chromosomes1 = [list(map(int, chromosome.split(' '))) for chromosome in chromosomes1]\n",
        "\n",
        "    chromosomes2 = f.readline().strip()[1:-1].split(')(')\n",
        "    chromosomes2 = [list(map(int, chromosome.split(' '))) for chromosome in chromosomes2]"
      ],
      "metadata": {
        "id": "bSU018yD-H_K"
      },
      "execution_count": null,
      "outputs": []
    },
    {
      "cell_type": "code",
      "source": [
        "solve(chromosomes2, chromosomes1)"
      ],
      "metadata": {
        "colab": {
          "base_uri": "https://localhost:8080/"
        },
        "id": "X8RE9UOt-KYH",
        "outputId": "9120f836-d054-4dd7-f76d-7d16bb9ec0e9"
      },
      "execution_count": null,
      "outputs": [
        {
          "output_type": "stream",
          "name": "stdout",
          "text": [
            "(+1 +9 -12 -8 +13 -11 -7 -2 -3 +5 +10 -4 +6)\n",
            "(+1 +9 -12)(+2 +7 +11 -13 +8 -6 +4 -10 -5 +3)\n",
            "(+1 +10 -4 +6 -8 +13 -11 -7 -2 -3 +5 +9 -12)\n",
            "(+1 +10 -4 +6 -8 -3 +5 +9 -12)(+2 +7 +11 -13)\n",
            "(+1 +10 +2 +7 +11 -13 -4 +6 -8 -3 +5 +9 -12)\n",
            "(+1 +10 +2 +13 -11 -7 -4 +6 -8 -3 +5 +9 -12)\n",
            "(+1 +10 +2 +11 -13 -7 -4 +6 -8 -3 +5 +9 -12)\n",
            "(+1 +10 +2 +11 -13 -7 -4 -8 -3 +5 +9 -12)(+6)\n",
            "(+1 +10 +2 +11 -13 -7 -4 -8 -3 +5 -12)(+6)(+9)\n",
            "(+1 +10 +2 +11 +6 -13 -7 -4 -8 -3 +5 -12)(+9)\n",
            "(+1 +10 +2 +11 +13 -6 -7 -4 -8 -3 +5 -12)(+9)\n",
            "(+1 +10 +2 +11 +13 -6 -9 -7 -4 -8 -3 +5 -12)\n"
          ]
        }
      ]
    },
    {
      "cell_type": "markdown",
      "source": [
        "###Task 30"
      ],
      "metadata": {
        "id": "GmQhnYFQJA11"
      }
    },
    {
      "cell_type": "code",
      "source": [
        "import re\n",
        "\n",
        "def format_genome_graph(genome_graph):\n",
        "    genome_paths = identify_genome_paths(genome_graph)\n",
        "    return \"\".join(f\"({' '.join(f'+{x}' if x > 0 else str(x) for x in path)})\" for path in genome_paths)\n",
        "\n",
        "def add_sequence_edges(sequence, breakpoint_graph):\n",
        "    for i in range(len(sequence)):\n",
        "        vertex1 = 2 * abs(sequence[i]) - (1 if sequence[i] > 0 else 2)\n",
        "        vertex2 = 2 * abs(sequence[(i + 1) % len(sequence)]) - (2 if sequence[(i + 1) % len(sequence)] > 0 else 1)\n",
        "        breakpoint_graph.setdefault(vertex1, set()).add(vertex2)\n",
        "        breakpoint_graph.setdefault(vertex2, set()).add(vertex1)\n",
        "\n",
        "def apply_breakpoint_rearrangement(breakpoint_graph, edge_vertices):\n",
        "    assert len(edge_vertices) == 4\n",
        "    v1, v2, v3, v4 = edge_vertices\n",
        "\n",
        "    breakpoint_graph[v1].discard(v2)\n",
        "    breakpoint_graph[v2].discard(v1)\n",
        "    breakpoint_graph[v3].discard(v4)\n",
        "    breakpoint_graph[v4].discard(v3)\n",
        "\n",
        "    breakpoint_graph[v1].add(v4)\n",
        "    breakpoint_graph[v2].add(v3)\n",
        "    breakpoint_graph[v3].add(v2)\n",
        "    breakpoint_graph[v4].add(v1)\n",
        "\n",
        "def find_circle_genomes(genome_graph):\n",
        "    marked_vertices = set()\n",
        "    paths = []\n",
        "\n",
        "    for vertex in genome_graph:\n",
        "        if vertex not in marked_vertices:\n",
        "            path = []\n",
        "            stack = [vertex]\n",
        "\n",
        "            while stack:\n",
        "                current_vertex = stack.pop()\n",
        "                if current_vertex not in marked_vertices:\n",
        "                    marked_vertices.add(current_vertex)\n",
        "                    path.append(current_vertex)\n",
        "                    stack.extend([neighbor for neighbor in genome_graph[current_vertex] if neighbor not in marked_vertices])\n",
        "\n",
        "            paths.append(path)\n",
        "\n",
        "    return paths\n",
        "\n",
        "def solve(samples, indexes):\n",
        "    graph = dict()\n",
        "    for genome in samples:\n",
        "        add_sequence_edges(genome, graph)\n",
        "    apply_breakpoint_rearrangement(graph, indexes)\n",
        "    circles = find_circle_genomes(graph)\n",
        "    result = format_genome_graph(circles)\n",
        "\n",
        "    return result"
      ],
      "metadata": {
        "id": "GI9OH57ObTmO"
      },
      "execution_count": null,
      "outputs": []
    }
  ]
}